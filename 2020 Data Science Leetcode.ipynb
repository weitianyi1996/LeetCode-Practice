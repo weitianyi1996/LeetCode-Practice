{
 "cells": [
  {
   "cell_type": "markdown",
   "metadata": {},
   "source": [
    "### Binary Search"
   ]
  },
  {
   "cell_type": "markdown",
   "metadata": {},
   "source": [
    "### Two Pointer"
   ]
  },
  {
   "cell_type": "markdown",
   "metadata": {},
   "source": [
    "### Dynamic Programming/Recursive"
   ]
  },
  {
   "cell_type": "code",
   "execution_count": null,
   "metadata": {},
   "outputs": [],
   "source": [
    "Input: [\"aflower\",\"flow\",\"flight\"]\n",
    "Output: \"fl\""
   ]
  },
  {
   "cell_type": "code",
   "execution_count": 35,
   "metadata": {},
   "outputs": [],
   "source": [
    "Input=[\"falower\",\"fblow\",\"cflight\"]"
   ]
  },
  {
   "cell_type": "code",
   "execution_count": 8,
   "metadata": {},
   "outputs": [],
   "source": [
    "minimum=min([len(string) for string in Input ])\n",
    "dict1={}\n",
    "for i in range(minimum+1):\n",
    "    dict1[i]=[string[:i] for string in Input]"
   ]
  },
  {
   "cell_type": "code",
   "execution_count": 16,
   "metadata": {},
   "outputs": [
    {
     "name": "stdout",
     "output_type": "stream",
     "text": [
      "2\n",
      "1\n",
      "0\n"
     ]
    }
   ],
   "source": [
    "for key in range(minimum,-1,-1):\n",
    "    if len(set(dict1[key]))==1:\n",
    "        print(key)"
   ]
  },
  {
   "cell_type": "code",
   "execution_count": 33,
   "metadata": {},
   "outputs": [],
   "source": [
    "def longestCommonPrefix(strs):\n",
    "    minimum=min([len(str) for str in strs])\n",
    "    dict1={}\n",
    "    for i in range(minimum+1):\n",
    "        dict1[i]= [str[:i] for str in strs]\n",
    "    L=[]\n",
    "    for key in range(minimum,-1,-1):\n",
    "        if len(set(dict1[key]))==1:\n",
    "            L.append(key)\n",
    "    return strs[0][:max(L)]"
   ]
  },
  {
   "cell_type": "code",
   "execution_count": 36,
   "metadata": {},
   "outputs": [
    {
     "data": {
      "text/plain": [
       "''"
      ]
     },
     "execution_count": 36,
     "metadata": {},
     "output_type": "execute_result"
    }
   ],
   "source": [
    "longestCommonPrefix(Input)"
   ]
  },
  {
   "cell_type": "code",
   "execution_count": 3,
   "metadata": {},
   "outputs": [
    {
     "data": {
      "text/plain": [
       "False"
      ]
     },
     "execution_count": 3,
     "metadata": {},
     "output_type": "execute_result"
    }
   ],
   "source": [
    "not 'a'"
   ]
  },
  {
   "cell_type": "markdown",
   "metadata": {},
   "source": [
    "### Find min sub array to make the whole array sorted"
   ]
  },
  {
   "cell_type": "markdown",
   "metadata": {},
   "source": [
    "Input: [2, 6, 4, 8, 10, 9, 15]\n",
    "Output: 5\n",
    "Explanation: You need to sort [6, 4, 8, 10, 9] in ascending order to make the whole array sorted in ascending order."
   ]
  },
  {
   "cell_type": "code",
   "execution_count": 3,
   "metadata": {},
   "outputs": [],
   "source": [
    "nums=[2, 6, 4, 8, 10, 9, 15]"
   ]
  },
  {
   "cell_type": "code",
   "execution_count": 4,
   "metadata": {},
   "outputs": [
    {
     "data": {
      "text/plain": [
       "[2, 4, 6, 8, 9, 10, 15]"
      ]
     },
     "execution_count": 4,
     "metadata": {},
     "output_type": "execute_result"
    }
   ],
   "source": [
    "nums2=sorted(nums)\n",
    "nums2"
   ]
  },
  {
   "cell_type": "code",
   "execution_count": 5,
   "metadata": {},
   "outputs": [
    {
     "data": {
      "text/plain": [
       "[6, 4, 8, 10]"
      ]
     },
     "execution_count": 5,
     "metadata": {},
     "output_type": "execute_result"
    }
   ],
   "source": [
    "a=[i for i in range(len(nums)) if nums[i]!=nums2[i] ]\n",
    "nums[min(a):max(a)]"
   ]
  },
  {
   "cell_type": "code",
   "execution_count": 7,
   "metadata": {},
   "outputs": [
    {
     "data": {
      "text/plain": [
       "[6, 4, 8, 10, 9]"
      ]
     },
     "execution_count": 7,
     "metadata": {},
     "output_type": "execute_result"
    }
   ],
   "source": [
    "nums[min(a):max(a)+1]"
   ]
  },
  {
   "cell_type": "code",
   "execution_count": 27,
   "metadata": {},
   "outputs": [],
   "source": [
    "def retsub(nums):\n",
    "    nums2=sorted(nums)\n",
    "    if nums2!=nums:\n",
    "        a=[i for i in range(len(nums)) if nums[i]!=nums2[i]]\n",
    "        submax=nums[min(a):max(a)+1]\n",
    "        return len(submax)\n",
    "    else:\n",
    "        return 0"
   ]
  },
  {
   "cell_type": "code",
   "execution_count": 55,
   "metadata": {},
   "outputs": [],
   "source": [
    "def retsub(nums):\n",
    "    nums2=sorted(nums)\n",
    "    return len(nums[min([i for i in range(len(nums)) if nums[i]!=nums2[i]]):max([i for i in range(len(nums)) if nums[i]!=nums2[i]])+1]) if nums!=nums2 else 0"
   ]
  },
  {
   "cell_type": "code",
   "execution_count": 31,
   "metadata": {},
   "outputs": [
    {
     "name": "stdout",
     "output_type": "stream",
     "text": [
      "Wall time: 0 ns\n"
     ]
    },
    {
     "data": {
      "text/plain": [
       "5"
      ]
     },
     "execution_count": 31,
     "metadata": {},
     "output_type": "execute_result"
    }
   ],
   "source": [
    "%time\n",
    "retsub([2,6,4,8,10,9,15])"
   ]
  },
  {
   "cell_type": "code",
   "execution_count": 25,
   "metadata": {},
   "outputs": [
    {
     "data": {
      "text/plain": [
       "False"
      ]
     },
     "execution_count": 25,
     "metadata": {},
     "output_type": "execute_result"
    }
   ],
   "source": [
    "[2,6,4,8,10,9,15]==sorted([2,6,4,8,10,9,15])"
   ]
  },
  {
   "cell_type": "code",
   "execution_count": 54,
   "metadata": {},
   "outputs": [
    {
     "data": {
      "text/plain": [
       "([2, 6, 4, 8, 10, 9, 15], [15, 9, 10, 8, 4, 6, 2])"
      ]
     },
     "execution_count": 54,
     "metadata": {},
     "output_type": "execute_result"
    }
   ],
   "source": [
    "nums,nums[6::-1]"
   ]
  },
  {
   "cell_type": "code",
   "execution_count": 51,
   "metadata": {},
   "outputs": [
    {
     "data": {
      "text/plain": [
       "([True, False, False, True, False, False, True],\n",
       " [True, False, False, True, False, False, True])"
      ]
     },
     "execution_count": 51,
     "metadata": {},
     "output_type": "execute_result"
    }
   ],
   "source": [
    "is_same = [a == b for a, b in zip(nums, sorted(nums))]\n",
    "is_same,is_same[::-1]"
   ]
  },
  {
   "cell_type": "code",
   "execution_count": null,
   "metadata": {},
   "outputs": [],
   "source": [
    "def findUnsortedSubarray(self, nums):\n",
    "        is_same = [a == b for a, b in zip(nums, sorted(nums))]\n",
    "        return 0 if all(is_same) else len(nums) - is_same.index(False) - is_same[::-1].index(False)"
   ]
  },
  {
   "cell_type": "code",
   "execution_count": null,
   "metadata": {},
   "outputs": [],
   "source": []
  },
  {
   "cell_type": "markdown",
   "metadata": {},
   "source": [
    " ### find prime"
   ]
  },
  {
   "cell_type": "markdown",
   "metadata": {},
   "source": [
    "Input: 10\n",
    "Output: 4\n",
    "Explanation: There are 4 prime numbers less than 10, they are 2, 3, 5, 7."
   ]
  },
  {
   "cell_type": "code",
   "execution_count": 5,
   "metadata": {},
   "outputs": [],
   "source": [
    "def findprime(n):\n",
    "    if n>2:\n",
    "        s=1\n",
    "        for i in range(3,n):\n",
    "            if i%2!=0:\n",
    "                if sum([1 if i%x==0 else 0 for x in range(3,int(i**0.5)+1) ])==0: #get the prime\n",
    "                    s+=1\n",
    "        return s\n",
    "    else:\n",
    "        return 0\n",
    "            "
   ]
  },
  {
   "cell_type": "code",
   "execution_count": 10,
   "metadata": {},
   "outputs": [
    {
     "data": {
      "text/plain": [
       "4"
      ]
     },
     "execution_count": 10,
     "metadata": {},
     "output_type": "execute_result"
    }
   ],
   "source": [
    "findprime(11)"
   ]
  },
  {
   "cell_type": "code",
   "execution_count": 26,
   "metadata": {},
   "outputs": [],
   "source": [
    "def countprimes(n):\n",
    "    if n<3:\n",
    "        return 0\n",
    "    primes=[True]*n\n",
    "    primes[0]=primes[1]=False\n",
    "    for i in range(2,int(n**0.5)+1):\n",
    "        if primes[i]:\n",
    "            primes[i**2:n:i]=[False]*len(primes[i**2:n:i])\n",
    "    return sum(primes)"
   ]
  },
  {
   "cell_type": "code",
   "execution_count": 27,
   "metadata": {},
   "outputs": [
    {
     "data": {
      "text/plain": [
       "4"
      ]
     },
     "execution_count": 27,
     "metadata": {},
     "output_type": "execute_result"
    }
   ],
   "source": [
    "countprimes(11)"
   ]
  },
  {
   "cell_type": "markdown",
   "metadata": {},
   "source": [
    "### rotate array"
   ]
  },
  {
   "cell_type": "markdown",
   "metadata": {},
   "source": [
    "Given an array, rotate the array to the right by k steps, where k is non-negative.\n",
    "\n",
    "Example 1:\n",
    "\n",
    "Input: [1,2,3,4,5,6,7] and k = 3\n",
    "Output: [5,6,7,1,2,3,4]\n",
    "Explanation:\n",
    "rotate 1 steps to the right: [7,1,2,3,4,5,6]\n",
    "rotate 2 steps to the right: [6,7,1,2,3,4,5]\n",
    "rotate 3 steps to the right: [5,6,7,1,2,3,4]\n",
    "Example 2:\n",
    "\n",
    "Input: [-1,-100,3,99] and k = 2\n",
    "Output: [3,99,-1,-100]\n",
    "Explanation: \n",
    "rotate 1 steps to the right: [99,-1,-100,3]\n",
    "rotate 2 steps to the right: [3,99,-1,-100]"
   ]
  },
  {
   "cell_type": "code",
   "execution_count": 116,
   "metadata": {},
   "outputs": [],
   "source": [
    "input=[-1,-100,3,99]"
   ]
  },
  {
   "cell_type": "code",
   "execution_count": 117,
   "metadata": {},
   "outputs": [],
   "source": [
    "def rotateK(nums,k):\n",
    "    k=k%len(nums)\n",
    "    nums[:]=nums[-k:]+nums[:-k]\n",
    "    #nums=nums[-k:]+nums[:-k]\n",
    "    return nums"
   ]
  },
  {
   "cell_type": "code",
   "execution_count": 118,
   "metadata": {},
   "outputs": [
    {
     "data": {
      "text/plain": [
       "[-100, 3, 99, -1]"
      ]
     },
     "execution_count": 118,
     "metadata": {},
     "output_type": "execute_result"
    }
   ],
   "source": [
    "rotateK(input,3)"
   ]
  },
  {
   "cell_type": "code",
   "execution_count": 124,
   "metadata": {},
   "outputs": [
    {
     "data": {
      "text/plain": [
       "([3, 6, 3], [3, 6, 3])"
      ]
     },
     "execution_count": 124,
     "metadata": {},
     "output_type": "execute_result"
    }
   ],
   "source": [
    "input=[1,2,3]\n",
    "def checkcolon(nums):\n",
    "    nums[:]=[3,6,3]\n",
    "    return nums\n",
    "checkcolon(input),input"
   ]
  },
  {
   "cell_type": "code",
   "execution_count": null,
   "metadata": {},
   "outputs": [],
   "source": []
  },
  {
   "cell_type": "markdown",
   "metadata": {},
   "source": [
    "### Valid Palindrome"
   ]
  },
  {
   "cell_type": "markdown",
   "metadata": {},
   "source": [
    "Given a string, determine if it is a palindrome, considering only alphanumeric characters and ignoring cases.\n",
    "\n",
    "Note: For the purpose of this problem, we define empty string as valid palindrome.\n",
    "\n",
    "Example 1:\n",
    "\n",
    "Input: \"A man, a plan, a canal: Panama\"\n",
    "Output: true\n",
    "Example 2:\n",
    "\n",
    "Input: \"race a car\"\n",
    "Output: false"
   ]
  },
  {
   "cell_type": "code",
   "execution_count": 133,
   "metadata": {},
   "outputs": [],
   "source": [
    "input=\"A man, a plan, a canal: Panama\""
   ]
  },
  {
   "cell_type": "code",
   "execution_count": 131,
   "metadata": {},
   "outputs": [
    {
     "data": {
      "text/plain": [
       "'a b'"
      ]
     },
     "execution_count": 131,
     "metadata": {},
     "output_type": "execute_result"
    }
   ],
   "source": [
    "' '.join(['a','b'])"
   ]
  },
  {
   "cell_type": "code",
   "execution_count": 146,
   "metadata": {},
   "outputs": [
    {
     "data": {
      "text/plain": [
       "'ab'"
      ]
     },
     "execution_count": 146,
     "metadata": {},
     "output_type": "execute_result"
    }
   ],
   "source": [
    "'AB'.lower()"
   ]
  },
  {
   "cell_type": "code",
   "execution_count": 147,
   "metadata": {},
   "outputs": [
    {
     "data": {
      "text/plain": [
       "'amanaplanacanalpanama'"
      ]
     },
     "execution_count": 147,
     "metadata": {},
     "output_type": "execute_result"
    }
   ],
   "source": [
    "import string\n",
    "order=''.join([l.lower() for l in input if l!=' ' if l in string.ascii_lowercase or l in string.ascii_uppercase][::-1])\n",
    "order"
   ]
  },
  {
   "cell_type": "code",
   "execution_count": 33,
   "metadata": {},
   "outputs": [],
   "source": [
    "def ispalindrome(s):\n",
    "    import string\n",
    "    order=''.join([l.lower() if l in string.ascii_lowercase or l in string.ascii_uppercase else l if l in [str(digit) for digit in range(0,10)] else '' for l in s if l!=' ' ])\n",
    "    disorder=''.join([l.lower() if l in string.ascii_lowercase or l in string.ascii_uppercase else l if l in [str(digit) for digit in range(0,10)] else '' for l in s if l!=' ' ][::-1])\n",
    "    print(order,disorder)\n",
    "    return True if order==disorder else False\n",
    "    "
   ]
  },
  {
   "cell_type": "markdown",
   "metadata": {},
   "source": [
    "def ispalindrome(s):\n",
    "    import string\n",
    "    order=''.join([l.lower() if l in string.ascii_lowercase or l in string.ascii_uppercase else l if l in range(0,9) else for l in s if l!=' ' ])\n",
    "    disorder=''.join([l.lower() if l in string.ascii_lowercase or l in string.ascii_uppercase else l for l in s if l!=' ' ])\n",
    "    return True if order==disorder else False"
   ]
  },
  {
   "cell_type": "code",
   "execution_count": 34,
   "metadata": {
    "scrolled": true
   },
   "outputs": [
    {
     "data": {
      "text/plain": [
       "['3']"
      ]
     },
     "execution_count": 34,
     "metadata": {},
     "output_type": "execute_result"
    }
   ],
   "source": [
    "s='wt3y:'\n",
    "[i for i in s if i in [str(digit) for digit in range(0,10)]]"
   ]
  },
  {
   "cell_type": "code",
   "execution_count": 48,
   "metadata": {},
   "outputs": [
    {
     "data": {
      "text/plain": [
       "['w', 't', 'x', '3', 'y']"
      ]
     },
     "execution_count": 48,
     "metadata": {},
     "output_type": "execute_result"
    }
   ],
   "source": [
    "s='wTx%3 y:'\n",
    "[l.lower() for l in s if l.isalnum()]"
   ]
  },
  {
   "cell_type": "code",
   "execution_count": 52,
   "metadata": {},
   "outputs": [],
   "source": [
    "def ispalindrome(s):\n",
    "    order= ''.join([l.lower() for l in s if l.isalnum()])\n",
    "    disorder= ''.join([l.lower() for l in s if l.isalnum()][::-1])\n",
    "    return True if order==disorder else False\n",
    "    "
   ]
  },
  {
   "cell_type": "code",
   "execution_count": 53,
   "metadata": {},
   "outputs": [
    {
     "data": {
      "text/plain": [
       "False"
      ]
     },
     "execution_count": 53,
     "metadata": {},
     "output_type": "execute_result"
    }
   ],
   "source": [
    "ispalindrome('wt3y:')"
   ]
  },
  {
   "cell_type": "code",
   "execution_count": null,
   "metadata": {},
   "outputs": [],
   "source": []
  },
  {
   "cell_type": "markdown",
   "metadata": {},
   "source": [
    "### remove duplicates"
   ]
  },
  {
   "cell_type": "code",
   "execution_count": 1,
   "metadata": {},
   "outputs": [],
   "source": [
    "def removeDuplicates(nums):\n",
    "    nums[:]=list(set(nums))\n",
    "    return len(set(nums))"
   ]
  },
  {
   "cell_type": "code",
   "execution_count": 2,
   "metadata": {},
   "outputs": [
    {
     "data": {
      "text/plain": [
       "[0, 3, -1]"
      ]
     },
     "execution_count": 2,
     "metadata": {},
     "output_type": "execute_result"
    }
   ],
   "source": [
    "input=[-1,0,0,0,0,3,3]\n",
    "i=0\n",
    "[input[i] for i in range(removeDuplicates(input))]"
   ]
  },
  {
   "cell_type": "code",
   "execution_count": 7,
   "metadata": {},
   "outputs": [],
   "source": [
    "def removeDuplicate(nums):\n",
    "    if len(nums)==0:\n",
    "        return []\n",
    "    else:\n",
    "        nums[:]=[nums[i] for i in range(len(nums)-1) if nums[i]!=nums[i+1]]+[nums[-1]]\n",
    "        return nums"
   ]
  },
  {
   "cell_type": "code",
   "execution_count": 6,
   "metadata": {},
   "outputs": [
    {
     "data": {
      "text/plain": [
       "[-1, 0, 3]"
      ]
     },
     "execution_count": 6,
     "metadata": {},
     "output_type": "execute_result"
    }
   ],
   "source": [
    "input=[-1,0,0,0,0,3,3]\n",
    "removeDuplicate(input)"
   ]
  },
  {
   "cell_type": "code",
   "execution_count": null,
   "metadata": {},
   "outputs": [],
   "source": []
  },
  {
   "cell_type": "markdown",
   "metadata": {},
   "source": [
    "###  Intern Interview Q"
   ]
  },
  {
   "cell_type": "markdown",
   "metadata": {},
   "source": [
    "2.\n",
    "\n",
    "Sample Input: \n",
    "    String: GHDRDRD\n",
    "    Sub-string: DRD\n",
    "\n",
    "Sample Output: 2"
   ]
  },
  {
   "cell_type": "code",
   "execution_count": 83,
   "metadata": {},
   "outputs": [],
   "source": [
    "string='GHDRDRD'"
   ]
  },
  {
   "cell_type": "code",
   "execution_count": 82,
   "metadata": {
    "scrolled": true
   },
   "outputs": [],
   "source": [
    "def count_substring(string, sub_string):\n",
    "    return sum(string[i:i+len(sub_string)]==sub_string for i in range(len(string)))"
   ]
  },
  {
   "cell_type": "code",
   "execution_count": 84,
   "metadata": {},
   "outputs": [
    {
     "data": {
      "text/plain": [
       "2"
      ]
     },
     "execution_count": 84,
     "metadata": {},
     "output_type": "execute_result"
    }
   ],
   "source": [
    "count_substring('GHDRDRD','DRD')"
   ]
  },
  {
   "cell_type": "markdown",
   "metadata": {},
   "source": [
    "3.\n",
    "\n",
    "Input: [\"eat\", \"tea\", \"tan\", \"ate\", \"nat\", \"bat\"]\n",
    "\n",
    "Output:  [ [\"ate\",\"eat\",\"tea\"],  [\"nat\",\"tan\"],  [\"bat\"] ]\n"
   ]
  },
  {
   "cell_type": "code",
   "execution_count": 22,
   "metadata": {},
   "outputs": [
    {
     "name": "stdout",
     "output_type": "stream",
     "text": [
      "{'aet': [['e', 'a', 't'], ['e', 'a', 't'], ['e', 'a', 't']], 'ant': [['t', 'a', 'n'], ['t', 'a', 'n']], 'abt': [['b', 'a', 't']]}\n"
     ]
    }
   ],
   "source": [
    "input=[\"eat\", \"tea\", \"tan\", \"ate\", \"nat\", \"bat\"]\n",
    "unpacked=[[x for x in word] for word in input]\n",
    "unpacked2=[sorted([x for x in word]) for word in input]\n",
    "packed2=[''.join(list) for list in unpacked2]\n",
    "dictpack={}\n",
    "for orderWord in packed2:\n",
    "    if orderWord not in dictpack:\n",
    "        dictpack[orderWord]=[]\n",
    "    dictpack[orderWord].append(unpacked[packed2.index(orderWord)])\n",
    "print(dictpack)"
   ]
  },
  {
   "cell_type": "code",
   "execution_count": 143,
   "metadata": {},
   "outputs": [],
   "source": [
    "def groupAnagrams(strs):\n",
    "    unpacked2=[sorted([x for x in word]) for word in strs]\n",
    "    packed2=[''.join(list) for list in unpacked2]\n",
    "    dictpack={}\n",
    "    for orderWord in packed2:\n",
    "        if orderWord not in dictpack:\n",
    "            dictpack[orderWord]=[]\n",
    "        dictpack[orderWord].append(strs[packed2.index(orderWord)])\n",
    "    return dictpack.values()"
   ]
  },
  {
   "cell_type": "code",
   "execution_count": 150,
   "metadata": {},
   "outputs": [],
   "source": [
    "def groupAnagrams(strs):\n",
    "    unpacked2=[sorted([x for x in word]) for word in strs]\n",
    "    packed2=[''.join(list) for list in unpacked2]\n",
    "    dictpack={}\n",
    "    for i in range(len(packed2)):\n",
    "        if packed2[i] not in dictpack:\n",
    "            dictpack[packed2[i]]=[]\n",
    "        dictpack[packed2[i]].append(strs[i])\n",
    "    return dictpack.values()"
   ]
  },
  {
   "cell_type": "code",
   "execution_count": 151,
   "metadata": {},
   "outputs": [
    {
     "data": {
      "text/plain": [
       "dict_values([['eat', 'tea', 'ate'], ['tan', 'nat'], ['bat']])"
      ]
     },
     "execution_count": 151,
     "metadata": {},
     "output_type": "execute_result"
    }
   ],
   "source": [
    "input=[\"eat\", \"tea\", \"tan\", \"ate\", \"nat\", \"bat\"]\n",
    "groupAnagrams(input)"
   ]
  },
  {
   "cell_type": "code",
   "execution_count": null,
   "metadata": {},
   "outputs": [],
   "source": []
  },
  {
   "cell_type": "markdown",
   "metadata": {},
   "source": [
    "### Find needle in haystack"
   ]
  },
  {
   "cell_type": "markdown",
   "metadata": {},
   "source": [
    "Input: haystack = \"hello\", needle = \"ll\"\n",
    "Output: 2\n",
    "Input: haystack = \"aaaaa\", needle = \"bba\"\n",
    "Output: -1"
   ]
  },
  {
   "cell_type": "code",
   "execution_count": 158,
   "metadata": {},
   "outputs": [],
   "source": [
    "def strStr(haystack,needle):\n",
    "    l=len(needle)\n",
    "    if l==0:\n",
    "        return 0\n",
    "    else:\n",
    "        a=[1 if haystack[i:i+len(needle)]==needle else 0 for i in range(len(haystack)-l+1)]\n",
    "        if sum(a)==0:\n",
    "            return -1\n",
    "        else:\n",
    "            return a.index(1)"
   ]
  },
  {
   "cell_type": "code",
   "execution_count": 161,
   "metadata": {},
   "outputs": [
    {
     "data": {
      "text/plain": [
       "2"
      ]
     },
     "execution_count": 161,
     "metadata": {},
     "output_type": "execute_result"
    }
   ],
   "source": [
    "haystack = \"hello\";needle = \"ll\"\n",
    "strStr(haystack,needle)"
   ]
  },
  {
   "cell_type": "code",
   "execution_count": 160,
   "metadata": {},
   "outputs": [],
   "source": [
    "def strStr(haystack,needle):\n",
    "    return haystack.find(needle)"
   ]
  },
  {
   "cell_type": "code",
   "execution_count": 164,
   "metadata": {},
   "outputs": [
    {
     "data": {
      "text/plain": [
       "0"
      ]
     },
     "execution_count": 164,
     "metadata": {},
     "output_type": "execute_result"
    }
   ],
   "source": [
    "haystack = \"hello\";needle = \"\"\n",
    "strStr(haystack,needle)"
   ]
  },
  {
   "cell_type": "code",
   "execution_count": null,
   "metadata": {},
   "outputs": [],
   "source": []
  },
  {
   "cell_type": "markdown",
   "metadata": {},
   "source": [
    "### Count and Say"
   ]
  },
  {
   "cell_type": "markdown",
   "metadata": {},
   "source": [
    " 1.     1\n",
    " 2.     11\n",
    " 3.     21\n",
    " 4.     1211\n",
    " 5.     111221 \n",
    " 6.     312211\n",
    " 7.     13112221\n",
    " 8.     1113213211\n",
    " 9.     31131211131221\n",
    "10.     13211311123113112211"
   ]
  },
  {
   "cell_type": "code",
   "execution_count": 20,
   "metadata": {},
   "outputs": [],
   "source": [
    "def countAndSay(n):\n",
    "    L='1'\n",
    "    for _ in range(n-1):\n",
    "        i=0\n",
    "        r=''\n",
    "        while i<len(L)-1:\n",
    "            if L[i]!=L[i+1]:\n",
    "                r+=str(i+1)+L[i]\n",
    "                L=L[i+1:]\n",
    "                i=0\n",
    "            else:\n",
    "                i+=1\n",
    "        r+=str(len(L))+L[-1]\n",
    "        L=r\n",
    "    return L"
   ]
  },
  {
   "cell_type": "code",
   "execution_count": 22,
   "metadata": {},
   "outputs": [
    {
     "data": {
      "text/plain": [
       "'13211311123113112211'"
      ]
     },
     "execution_count": 22,
     "metadata": {},
     "output_type": "execute_result"
    }
   ],
   "source": [
    "countAndSay(10)"
   ]
  },
  {
   "cell_type": "code",
   "execution_count": 23,
   "metadata": {},
   "outputs": [],
   "source": [
    "def countAndSay(n):\n",
    "    s='1'\n",
    "    L=['1']\n",
    "    for x in range(n-1): #do how many times more\n",
    "        ss=''\n",
    "        i=0\n",
    "        while i+1<len(s):\n",
    "            if s[i]!=s[i+1]:\n",
    "                ss+=str(i+1)+s[i]\n",
    "                s=s[i+1:]\n",
    "                i=0\n",
    "            else:\n",
    "                i+=1\n",
    "        ss+=str(len(s))+s[-1]\n",
    "        L.append(ss)\n",
    "        s=ss\n",
    "    return L[-1]      "
   ]
  },
  {
   "cell_type": "code",
   "execution_count": 54,
   "metadata": {},
   "outputs": [],
   "source": [
    "def countAndSay(n):\n",
    "    s='1'\n",
    "    for _ in range(n-1): #do how many times more\n",
    "        ss=[]\n",
    "        i=0\n",
    "        while i+1<len(s):\n",
    "            if s[i]!=s[i+1]:\n",
    "                ss.append(str(i+1))\n",
    "                ss.append(s[i])\n",
    "                s=s[i+1:]\n",
    "                i=0\n",
    "            else:\n",
    "                i+=1\n",
    "        ss.append(str(len(s)))\n",
    "        ss.append(s[-1])\n",
    "        s=''.join(ss)\n",
    "    return s    #return s instead of creating a list "
   ]
  },
  {
   "cell_type": "code",
   "execution_count": 55,
   "metadata": {},
   "outputs": [
    {
     "data": {
      "text/plain": [
       "'13211311123113112211'"
      ]
     },
     "execution_count": 55,
     "metadata": {},
     "output_type": "execute_result"
    }
   ],
   "source": [
    "countAndSay(10)"
   ]
  },
  {
   "cell_type": "code",
   "execution_count": 41,
   "metadata": {},
   "outputs": [
    {
     "data": {
      "text/plain": [
       "'121314'"
      ]
     },
     "execution_count": 41,
     "metadata": {},
     "output_type": "execute_result"
    }
   ],
   "source": [
    "import re\n",
    "s = '234'\n",
    "s = re.sub(r'(.)\\1*', lambda m: str(len(m.group(0))) + m.group(1), s)   #group(0)整体 只替换s的一部分,再打印s\n",
    "#s = re.sub(r'(.)[1]*', lambda m: str(len(m.group(0))) + m.group(1), s)   #group(0)整体 只替换s的一部分,再打印s\n",
    "#m=re.search(r'(.)\\1*',s)\n",
    "#m.group(0)\n",
    "s"
   ]
  },
  {
   "cell_type": "code",
   "execution_count": 18,
   "metadata": {},
   "outputs": [
    {
     "name": "stdout",
     "output_type": "stream",
     "text": [
      "hello there there\n"
     ]
    }
   ],
   "source": [
    "import re\n",
    "print (re.sub('\\s+', ' ', 'hello     there      there'))"
   ]
  },
  {
   "cell_type": "code",
   "execution_count": null,
   "metadata": {},
   "outputs": [],
   "source": []
  },
  {
   "cell_type": "markdown",
   "metadata": {},
   "source": [
    "## 7/20 remove element\n",
    "Given nums = [3,2,2,3], val = 3"
   ]
  },
  {
   "cell_type": "code",
   "execution_count": 63,
   "metadata": {},
   "outputs": [],
   "source": [
    "input=[3,2,2,3] "
   ]
  },
  {
   "cell_type": "code",
   "execution_count": 68,
   "metadata": {},
   "outputs": [],
   "source": [
    "def removeElement(nums,val):\n",
    "    nums[:]=[x for x in nums if x!=val]\n",
    "    return len(nums)"
   ]
  },
  {
   "cell_type": "code",
   "execution_count": 70,
   "metadata": {},
   "outputs": [
    {
     "data": {
      "text/plain": [
       "2"
      ]
     },
     "execution_count": 70,
     "metadata": {},
     "output_type": "execute_result"
    }
   ],
   "source": [
    "removeElement(input,3)"
   ]
  },
  {
   "cell_type": "markdown",
   "metadata": {},
   "source": [
    "### Search Insert Position\n",
    "Input: [1,3,5,6], 5\n",
    "Output: 2\n",
    "Input: [1,3,5,6], 7\n",
    "Output: 4"
   ]
  },
  {
   "cell_type": "code",
   "execution_count": 135,
   "metadata": {},
   "outputs": [],
   "source": [
    "def searchInsert(nums, target):\n",
    "    if target in nums:\n",
    "        return nums.index(target)\n",
    "    else:\n",
    "        nums.append(target) ### 只是一步操作 return None\n",
    "        return sorted(nums).index(target)"
   ]
  },
  {
   "cell_type": "code",
   "execution_count": 136,
   "metadata": {},
   "outputs": [],
   "source": [
    "a=[1,3,4,5]"
   ]
  },
  {
   "cell_type": "code",
   "execution_count": 137,
   "metadata": {},
   "outputs": [
    {
     "data": {
      "text/plain": [
       "0"
      ]
     },
     "execution_count": 137,
     "metadata": {},
     "output_type": "execute_result"
    }
   ],
   "source": [
    "searchInsert(a,0)"
   ]
  },
  {
   "cell_type": "markdown",
   "metadata": {},
   "source": [
    "### Maximum Subarray\n",
    "Input: [-2,1,-3,4,-1,2,1,-5,4],\n",
    "Output: 6\n",
    "Explanation: [4,-1,2,1] has the largest sum = 6."
   ]
  },
  {
   "cell_type": "code",
   "execution_count": 1,
   "metadata": {},
   "outputs": [
    {
     "data": {
      "text/plain": [
       "6"
      ]
     },
     "execution_count": 1,
     "metadata": {},
     "output_type": "execute_result"
    }
   ],
   "source": [
    "#my code O(n^2)\n",
    "def maxSubArray(nums):\n",
    "    l=len(nums)\n",
    "    dict={i:max([sum(nums[i:e]) for e in range(i+1,l+1)]) for i in range(l)}\n",
    "    return max(dict.values())\n",
    "Input=[-2,1,-3,4,-1,2,1,-5,4]\n",
    "maxSubArray(Input)"
   ]
  },
  {
   "cell_type": "code",
   "execution_count": 14,
   "metadata": {},
   "outputs": [
    {
     "data": {
      "text/plain": [
       "-1"
      ]
     },
     "execution_count": 14,
     "metadata": {},
     "output_type": "execute_result"
    }
   ],
   "source": [
    "#Kadane’s Algorithm: O(n)  only track the positive continous array\n",
    "def maxSubArray(nums):\n",
    "    max_ending=0\n",
    "    max_sofar=-abs(max(nums))-1\n",
    "    for i in nums:\n",
    "        max_ending+=i\n",
    "        if max_ending>max_sofar:\n",
    "            max_sofar=max_ending\n",
    "        max_ending=max(0,max_ending)  #you 0 lai qingli\n",
    "    return max_sofar\n",
    "Input=[-1]\n",
    "maxSubArray(Input)"
   ]
  },
  {
   "cell_type": "markdown",
   "metadata": {},
   "source": [
    "### Return last word\n",
    "Given a string s consists of upper/lower-case alphabets and empty space characters ' ', return the length of last word in the string.\n",
    "\n",
    "If the last word does not exist, return 0.\n",
    "\n",
    "Note: A word is defined as a character sequence consists of non-space characters only.\n",
    "\n",
    "Example:\n",
    "\n",
    "Input: \"Hello World\"\n",
    "Output: 5"
   ]
  },
  {
   "cell_type": "code",
   "execution_count": 139,
   "metadata": {},
   "outputs": [],
   "source": [
    "#Test success, not accepted.\n",
    "def lengthOfLastWord(s):\n",
    "    if ' 'in s:\n",
    "        s2=s.replace(' ','')\n",
    "        if not (s2.isalpha() or s2.isnumeric()):\n",
    "            return 0\n",
    "        else:\n",
    "            return len(s.split(' ')[-1])\n",
    "    else:\n",
    "        return len(s)  #'a'"
   ]
  },
  {
   "cell_type": "code",
   "execution_count": 144,
   "metadata": {},
   "outputs": [],
   "source": [
    "def lengthOfLastWord(s):\n",
    "    s=s.strip(' ')  #remove learding/trailing empty space\n",
    "    return len(s.split(' ')[-1])"
   ]
  },
  {
   "cell_type": "code",
   "execution_count": 145,
   "metadata": {},
   "outputs": [
    {
     "data": {
      "text/plain": [
       "5"
      ]
     },
     "execution_count": 145,
     "metadata": {},
     "output_type": "execute_result"
    }
   ],
   "source": [
    "s=\"a\"\n",
    "s='             '\n",
    "s=' Hello    World '\n",
    "lengthOfLastWord(s)"
   ]
  },
  {
   "cell_type": "code",
   "execution_count": 137,
   "metadata": {},
   "outputs": [
    {
     "data": {
      "text/plain": [
       "['Hello', '', '', '', 'World']"
      ]
     },
     "execution_count": 137,
     "metadata": {},
     "output_type": "execute_result"
    }
   ],
   "source": [
    "s=' Hello    World '\n",
    "s.strip('    ').split(' ')"
   ]
  },
  {
   "cell_type": "code",
   "execution_count": null,
   "metadata": {},
   "outputs": [],
   "source": []
  },
  {
   "cell_type": "markdown",
   "metadata": {},
   "source": [
    "### Plus One\n",
    "Given a non-empty array of digits representing a non-negative integer, plus one to the integer.\n",
    "\n",
    "The digits are stored such that the most significant digit is at the head of the list, and each element in the array contain a single digit.\n",
    "\n",
    "You may assume the integer does not contain any leading zero, except the number 0 itself.\n",
    "\n",
    "Example:\n",
    "\n",
    "Input: [4,3,2,1]\n",
    "Output: [4,3,2,2]\n",
    "Explanation: The array represents the integer 4321."
   ]
  },
  {
   "cell_type": "code",
   "execution_count": 44,
   "metadata": {},
   "outputs": [],
   "source": [
    "input=[1,2,3]"
   ]
  },
  {
   "cell_type": "code",
   "execution_count": 51,
   "metadata": {},
   "outputs": [],
   "source": [
    "def plusOne(digits):\n",
    "    num=''\n",
    "    for x in digits:\n",
    "        num+=str(x) \n",
    "    num=str(int(num)+1)\n",
    "    digits=[int(x) for x in num]\n",
    "    return digits"
   ]
  },
  {
   "cell_type": "code",
   "execution_count": 52,
   "metadata": {},
   "outputs": [
    {
     "data": {
      "text/plain": [
       "[1, 2, 4]"
      ]
     },
     "execution_count": 52,
     "metadata": {},
     "output_type": "execute_result"
    }
   ],
   "source": [
    "plusOne(input)"
   ]
  },
  {
   "cell_type": "code",
   "execution_count": 40,
   "metadata": {},
   "outputs": [
    {
     "data": {
      "text/plain": [
       "[1, 0]"
      ]
     },
     "execution_count": 40,
     "metadata": {},
     "output_type": "execute_result"
    }
   ],
   "source": [
    "#use recursive\n",
    "def plusOnerec(digits):\n",
    "    if len(digits)==0:    #handle [9]\n",
    "        digits.extend('1')\n",
    "    elif digits[-1]==9:\n",
    "        digits=plusOnerec(digits[:-1])\n",
    "        digits.extend('0')\n",
    "    else:\n",
    "        digits[-1]+=1\n",
    "    return [int(x) for x in digits ]\n",
    "plusOnerec([9])"
   ]
  },
  {
   "cell_type": "markdown",
   "metadata": {},
   "source": [
    "### Add Binary\n",
    "Given two binary strings, return their sum (also a binary string).\n",
    "\n",
    "The input strings are both non-empty and contains only characters 1 or 0.\n",
    "\n",
    "Example 1:\n",
    "\n",
    "Input: a = \"11\", b = \"1\"\n",
    "Output: \"100\"\n",
    "Example 2:\n",
    "\n",
    "Input: a = \"1010\", b = \"1011\"\n",
    "Output: \"10101\""
   ]
  },
  {
   "cell_type": "markdown",
   "metadata": {},
   "source": [
    "0 + 0 = 0\n",
    "1 + 0 = 1\n",
    "1 + 1 = 10 (binary for 2)\n",
    "1 + 1 + 1 = 11 (binary for 3)"
   ]
  },
  {
   "cell_type": "code",
   "execution_count": 63,
   "metadata": {},
   "outputs": [],
   "source": [
    "def addBinary(a,b):\n",
    "    ad= [int(d) for d in a]\n",
    "    bd=[int(d) for d in b]\n",
    "    lenab=max(len(ad),len(bd))\n",
    "    if len(ad)<lenab:\n",
    "        ad=[0]*(lenab-len(ad))+ad\n",
    "    else:\n",
    "        bd=[0]*(lenab-len(bd))+bd\n",
    "    ad.reverse()\n",
    "    bd.reverse()\n",
    "    L=[]\n",
    "    tem=0\n",
    "    for i in range(lenab):\n",
    "        digit=ad[i]+bd[i]+tem\n",
    "        if digit==2:\n",
    "            tem=1\n",
    "            digit=0\n",
    "        elif digit==3:\n",
    "            tem=1\n",
    "            digit=1\n",
    "        else:\n",
    "            tem=0\n",
    "        L.append(str(digit))\n",
    "    L.append(str(tem))\n",
    "    L.reverse()\n",
    "    output=str(int(''.join(L))) #deal with '00'\n",
    "    return output"
   ]
  },
  {
   "cell_type": "code",
   "execution_count": 64,
   "metadata": {},
   "outputs": [
    {
     "data": {
      "text/plain": [
       "'10101'"
      ]
     },
     "execution_count": 64,
     "metadata": {},
     "output_type": "execute_result"
    }
   ],
   "source": [
    "addBinary('1010','1011')"
   ]
  },
  {
   "cell_type": "code",
   "execution_count": 54,
   "metadata": {},
   "outputs": [],
   "source": [
    "a=\"10100000100100110110010000010101111011011001101110111111111101000000101111001110001111100001101\"\n",
    "b=\"110101001011101110001111100110001010100001101011101010000011011011001011101111001100000011011110011\""
   ]
  },
  {
   "cell_type": "code",
   "execution_count": 55,
   "metadata": {
    "scrolled": true
   },
   "outputs": [
    {
     "data": {
      "text/plain": [
       "110111101100010011000101110110100000011101000101011001000011011000001100011110011010010011000000000"
      ]
     },
     "execution_count": 55,
     "metadata": {},
     "output_type": "execute_result"
    }
   ],
   "source": [
    "addBinary(a,b)"
   ]
  },
  {
   "cell_type": "code",
   "execution_count": null,
   "metadata": {},
   "outputs": [],
   "source": []
  },
  {
   "cell_type": "markdown",
   "metadata": {},
   "source": [
    "### Sqrt(x)\n",
    "\n",
    "Implement int sqrt(int x).\n",
    "\n",
    "Compute and return the square root of x, where x is guaranteed to be a non-negative integer.\n",
    "\n",
    "Since the return type is an integer, the decimal digits are truncated and only the integer part of the result is returned.\n",
    "\n",
    "Example 1:\n",
    "\n",
    "Input: 4\n",
    "Output: 2\n",
    "Example 2:\n",
    "\n",
    "Input: 8\n",
    "Output: 2\n",
    "Explanation: The square root of 8 is 2.82842..., and since \n",
    "             the decimal part is truncated, 2 is returned."
   ]
  },
  {
   "cell_type": "code",
   "execution_count": 85,
   "metadata": {},
   "outputs": [],
   "source": [
    "#time error\n",
    "def mySqrt(x):\n",
    "    L=[]\n",
    "    for i in range(0,x+1):\n",
    "        if i**2<=x:\n",
    "            L.append(i)\n",
    "        else:\n",
    "            break\n",
    "    return max(L)"
   ]
  },
  {
   "cell_type": "code",
   "execution_count": 96,
   "metadata": {},
   "outputs": [],
   "source": [
    "#binary search\n",
    "def mySqrt(x):\n",
    "    if x==1:\n",
    "        return 1\n",
    "    l,r=0,x\n",
    "    while l<=r:\n",
    "        mid=(l+r)//2\n",
    "        if mid**2<=x<(mid+1)**2:\n",
    "            return mid\n",
    "        elif mid**2>x:\n",
    "            r=mid\n",
    "        else:\n",
    "            l=mid"
   ]
  },
  {
   "cell_type": "code",
   "execution_count": 95,
   "metadata": {},
   "outputs": [
    {
     "data": {
      "text/plain": [
       "0"
      ]
     },
     "execution_count": 95,
     "metadata": {},
     "output_type": "execute_result"
    }
   ],
   "source": [
    "mySqrt(0)"
   ]
  },
  {
   "cell_type": "markdown",
   "metadata": {},
   "source": [
    "### Climbing Stairs\n",
    "\n",
    "You are climbing a stair case. It takes n steps to reach to the top.\n",
    "\n",
    "Each time you can either climb 1 or 2 steps. In how many distinct ways can you climb to the top?\n",
    "\n",
    "Note: Given n will be a positive integer.\n",
    "\n",
    "Example 1:\n",
    "\n",
    "Input: 2\n",
    "Output: 2\n",
    "Explanation: There are two ways to climb to the top.\n",
    "1. 1 step + 1 step\n",
    "2. 2 steps\n",
    "Example 2:\n",
    "\n",
    "Input: 3\n",
    "Output: 3\n",
    "Explanation: There are three ways to climb to the top.\n",
    "1. 1 step + 1 step + 1 step\n",
    "2. 1 step + 2 steps\n",
    "3. 2 steps + 1 step"
   ]
  },
  {
   "cell_type": "markdown",
   "metadata": {},
   "source": [
    "# Recursive \n",
    "# Bottom up \n",
    "# Top Down"
   ]
  },
  {
   "cell_type": "code",
   "execution_count": 4,
   "metadata": {},
   "outputs": [],
   "source": [
    "def climbStairs(n):\n",
    "    if n==0 or n== 1:\n",
    "        return 1\n",
    "    return climbStairs(n-1)+climbStairs(n-2)"
   ]
  },
  {
   "cell_type": "code",
   "execution_count": 17,
   "metadata": {},
   "outputs": [],
   "source": [
    "def climbStairs(n):\n",
    "    if n==1:\n",
    "        return 1\n",
    "    res=[0 for x in range(n)]\n",
    "    res[0],res[1]=1,2\n",
    "    for i in range(2,n):\n",
    "        res[i]=res[i-1]+res[i-2]\n",
    "    return res[-1]"
   ]
  },
  {
   "cell_type": "code",
   "execution_count": 16,
   "metadata": {},
   "outputs": [
    {
     "data": {
      "text/plain": [
       "14930352"
      ]
     },
     "execution_count": 16,
     "metadata": {},
     "output_type": "execute_result"
    }
   ],
   "source": [
    "climbStairs(35)"
   ]
  },
  {
   "cell_type": "markdown",
   "metadata": {},
   "source": [
    "### Remove Duplicates from Sorted List\n",
    "\n",
    "Given a sorted linked list, delete all duplicates such that each element appear only once.\n",
    "\n",
    "Example 1:\n",
    "\n",
    "Input: 1->1->2\n",
    "Output: 1->2\n",
    "    \n",
    "Example 2:\n",
    "\n",
    "Input: 1->1->2->3->3\n",
    "Output: 1->2->3"
   ]
  },
  {
   "cell_type": "code",
   "execution_count": 22,
   "metadata": {},
   "outputs": [],
   "source": [
    "input=[1,1,2]\n",
    "input=[1,1,2,3,3]"
   ]
  },
  {
   "cell_type": "code",
   "execution_count": 28,
   "metadata": {},
   "outputs": [],
   "source": [
    "def deleteDuplicates(head):\n",
    "    L=[]\n",
    "    for x in head:\n",
    "        if x not in L:\n",
    "            L.append(x)\n",
    "    return L"
   ]
  },
  {
   "cell_type": "code",
   "execution_count": null,
   "metadata": {},
   "outputs": [],
   "source": [
    "def deleteDuplicates(head):\n",
    "    for x in head:\n",
    "        if x "
   ]
  },
  {
   "cell_type": "code",
   "execution_count": 29,
   "metadata": {},
   "outputs": [
    {
     "data": {
      "text/plain": [
       "[1, 2, 3]"
      ]
     },
     "execution_count": 29,
     "metadata": {},
     "output_type": "execute_result"
    }
   ],
   "source": [
    "deleteDuplicates(input)"
   ]
  },
  {
   "cell_type": "code",
   "execution_count": null,
   "metadata": {},
   "outputs": [],
   "source": []
  },
  {
   "cell_type": "markdown",
   "metadata": {},
   "source": [
    "### Merge Sorted Array\n",
    "\n",
    "Given two sorted integer arrays nums1 and nums2, merge nums2 into nums1 as one sorted array.\n",
    "\n",
    "The number of elements initialized in nums1 and nums2 are m and n respectively.\n",
    "You may assume that nums1 has enough space (size that is greater or equal to m + n) to hold additional elements from nums2.\n",
    "Example:\n",
    "\n",
    "Input:\n",
    "nums1 = [1,2,3,0,0,0], m = 3\n",
    "nums2 = [2,5,6],       n = 3\n",
    "\n",
    "Output: [1,2,2,3,5,6]"
   ]
  },
  {
   "cell_type": "code",
   "execution_count": 56,
   "metadata": {},
   "outputs": [],
   "source": [
    "#do without built in function\n",
    "#build a sort function myself!\n",
    "def merge(nums1,m,nums2,n):\n",
    "    L=nums1[:m]+nums2[:n]\n",
    "    sortList=[]\n",
    "    i=0\n",
    "    while len(L)>1:\n",
    "        if sum([1 if x<=L[i] else 0 for x in L[i+1:] ])==0:\n",
    "            sortList.append(L[i])\n",
    "            L=L[:i]+L[i+1:]\n",
    "            i=0#必须回到0，重新开始扫\n",
    "        elif i==len(L)-1:\n",
    "            sortList.append(L[i])\n",
    "            L=L[:i]\n",
    "        else:\n",
    "            i+=1\n",
    "    sortList.append(L[0])\n",
    "    return sortList"
   ]
  },
  {
   "cell_type": "code",
   "execution_count": 53,
   "metadata": {},
   "outputs": [
    {
     "data": {
      "text/plain": [
       "[1, 2, 2, 3, 5, 6]"
      ]
     },
     "execution_count": 53,
     "metadata": {},
     "output_type": "execute_result"
    }
   ],
   "source": [
    "nums1 = [1,2,3,0,0,0]\n",
    "nums2 = [2,5,6]\n",
    "merge(nums1,3,nums2,3)"
   ]
  },
  {
   "cell_type": "markdown",
   "metadata": {},
   "source": [
    "### Single Number"
   ]
  },
  {
   "cell_type": "markdown",
   "metadata": {},
   "source": [
    "Given a non-empty array of integers, every element appears twice except for one. Find that single one.\n",
    "Input: [2,2,1]\n",
    "Output: 1"
   ]
  },
  {
   "cell_type": "code",
   "execution_count": 85,
   "metadata": {},
   "outputs": [],
   "source": [
    "def singleNumber(nums): #runtime error\n",
    "    i=0\n",
    "    while i<len(nums)-1:\n",
    "        if nums[i] in nums[1:]:\n",
    "            nums=[x for x in nums if x!=nums[i]]\n",
    "        else:\n",
    "            i+=1\n",
    "    if len(nums)==0:\n",
    "        return 0\n",
    "    else:\n",
    "        return nums[0]"
   ]
  },
  {
   "cell_type": "code",
   "execution_count": 84,
   "metadata": {},
   "outputs": [],
   "source": [
    "def singleNumber(nums):\n",
    "    if len(nums)==1:\n",
    "        return nums[0]\n",
    "    nums=sorted(nums)\n",
    "    i=0\n",
    "    while i<len(nums)-1:\n",
    "        if nums[i]!=nums[i+1]:\n",
    "            return nums[i]\n",
    "        else:\n",
    "            i+=2\n",
    "    if nums[-1]==nums[-2]:\n",
    "        return 0\n",
    "    else:\n",
    "        return nums[-1]"
   ]
  },
  {
   "cell_type": "code",
   "execution_count": 103,
   "metadata": {},
   "outputs": [],
   "source": [
    "def singleNumber(nums):\n",
    "    dict={}\n",
    "    for num in nums:\n",
    "        dict[num]=dict.get(num,0)+1\n",
    "    for key,val in dict.items():\n",
    "        if val==1:\n",
    "            return key"
   ]
  },
  {
   "cell_type": "code",
   "execution_count": 107,
   "metadata": {},
   "outputs": [],
   "source": [
    "def singleNumber(nums):\n",
    "    set1=set(nums)\n",
    "    return sum(set1)*2-sum(nums)"
   ]
  },
  {
   "cell_type": "code",
   "execution_count": 104,
   "metadata": {},
   "outputs": [],
   "source": [
    "a=[2,2,1,1,3,3,4,4,5,5]\n",
    "singleNumber(a)"
   ]
  },
  {
   "cell_type": "code",
   "execution_count": 106,
   "metadata": {},
   "outputs": [
    {
     "data": {
      "text/plain": [
       "[2, 1, 2, 1]"
      ]
     },
     "execution_count": 106,
     "metadata": {},
     "output_type": "execute_result"
    }
   ],
   "source": [
    "2*[2,1]"
   ]
  },
  {
   "cell_type": "markdown",
   "metadata": {},
   "source": [
    "### Two Sum II - Input array is sorted"
   ]
  },
  {
   "cell_type": "code",
   "execution_count": null,
   "metadata": {},
   "outputs": [],
   "source": [
    "Input: numbers = [2,7,11,15], target = 9\n",
    "Output: [1,2]\n",
    "Explanation: The sum of 2 and 7 is 9. Therefore index1 = 1, index2 = 2."
   ]
  },
  {
   "cell_type": "code",
   "execution_count": 30,
   "metadata": {},
   "outputs": [],
   "source": [
    "def twoSum(numbers,target):\n",
    "    a=[[1+numbers.index(x), 1+1+numbers.index(x)+numbers[numbers.index(x)+1:].index(y)] for x in numbers for y in numbers[numbers.index(x)+1:] if x+y==target]\n",
    "    return a[0]"
   ]
  },
  {
   "cell_type": "code",
   "execution_count": 31,
   "metadata": {},
   "outputs": [
    {
     "data": {
      "text/plain": [
       "[1, 2]"
      ]
     },
     "execution_count": 31,
     "metadata": {},
     "output_type": "execute_result"
    }
   ],
   "source": [
    "numbers=[2,7,11,15]\n",
    "target = 9\n",
    "twoSum(numbers,target)"
   ]
  },
  {
   "cell_type": "code",
   "execution_count": 39,
   "metadata": {},
   "outputs": [],
   "source": [
    "def twoSum(numbers,target):\n",
    "    min,max=numbers[0],numbers[-1]\n",
    "    while min+max!=target:\n",
    "        if min+max>target:\n",
    "            max=numbers[numbers.index(max)-1]\n",
    "        else:\n",
    "            min=numbers[numbers.index(min)+1]\n",
    "    if min==max:\n",
    "        return [numbers.index(min)+1,numbers.index(min)+1+numbers[numbers.index(min)+1:].index(max)+1] \n",
    "    return [numbers.index(min)+1,numbers.index(max)+1]     "
   ]
  },
  {
   "cell_type": "code",
   "execution_count": 41,
   "metadata": {},
   "outputs": [],
   "source": [
    "#two-pointer\n",
    "def twoSum(numbers,target):\n",
    "    l,r=0,len(numbers)-1\n",
    "    while l<r:\n",
    "        if numbers[l]+numbers[r]==target:\n",
    "            return l+1,r+1\n",
    "        elif numbers[l]+numbers[r]>target:\n",
    "            r=r-1\n",
    "        else:\n",
    "            l=l+1"
   ]
  },
  {
   "cell_type": "code",
   "execution_count": 63,
   "metadata": {},
   "outputs": [],
   "source": [
    "#dictionary \n",
    "def twoSum(numbers,target):\n",
    "    dic={}\n",
    "    for i,num in enumerate(numbers):\n",
    "        if target-num in dic:\n",
    "            return(dic[target-num]+1,i+1)\n",
    "        dic[num]=i\n",
    "#only need search 1/2(at most)\n",
    "\n",
    "#2nd 会有重名问题[0,0,3,4] target0\n",
    "def twoSum(numbers,target):\n",
    "    dic={num:i for i,num in enumerate(numbers)}\n",
    "    for num in numbers:\n",
    "        if target-num in dic:\n",
    "            return [dic[num]+1,dic[target-num]+1]"
   ]
  },
  {
   "cell_type": "code",
   "execution_count": 74,
   "metadata": {},
   "outputs": [],
   "source": [
    "#binary search\n",
    "def twoSum(numbers,target):\n",
    "    for i in range(len(numbers)):\n",
    "        l,r=i+1,len(numbers)-1\n",
    "        while l<=r:\n",
    "            mid=(l+r)//2\n",
    "            if numbers[i]+numbers[mid]==target:\n",
    "                return [i+1,mid+1]\n",
    "            elif numbers[i]+numbers[mid]>target:\n",
    "                r=mid-1\n",
    "            else:\n",
    "                l=mid+1"
   ]
  },
  {
   "cell_type": "code",
   "execution_count": 75,
   "metadata": {},
   "outputs": [
    {
     "data": {
      "text/plain": [
       "[1, 2]"
      ]
     },
     "execution_count": 75,
     "metadata": {},
     "output_type": "execute_result"
    }
   ],
   "source": [
    "numbers=[2,7,11,15]\n",
    "target = 9\n",
    "twoSum(numbers,target)"
   ]
  },
  {
   "cell_type": "markdown",
   "metadata": {},
   "source": [
    "### Palindrome Number"
   ]
  },
  {
   "cell_type": "code",
   "execution_count": null,
   "metadata": {},
   "outputs": [],
   "source": [
    "Determine whether an integer is a palindrome. An integer is a palindrome when it reads the same backward as forward.\n",
    "\n",
    "Example 1:\n",
    "\n",
    "Input: 121\n",
    "Output: true\n",
    "Example 2:\n",
    "\n",
    "Input: -121\n",
    "Output: false\n",
    "Explanation: From left to right, it reads -121. From right to left, it becomes 121-. Therefore it is not a palindrome."
   ]
  },
  {
   "cell_type": "code",
   "execution_count": 92,
   "metadata": {},
   "outputs": [],
   "source": [
    "def Palindrome(x):\n",
    "    if x<0:\n",
    "        return False\n",
    "    else:\n",
    "        x=str(x)\n",
    "        digList=[digit for digit in x]\n",
    "        revdig=''.join(reversed(digList))\n",
    "        if x==revdig:\n",
    "            return True\n",
    "        else:\n",
    "            return False"
   ]
  },
  {
   "cell_type": "code",
   "execution_count": 97,
   "metadata": {},
   "outputs": [],
   "source": [
    "#Palidrome reverse a integer\n",
    "def Palidrome(x):\n",
    "    if x<0:\n",
    "        return False\n",
    "    else:\n",
    "        p,res=x,0\n",
    "        while p:\n",
    "            res=res*10+p%10\n",
    "            p=p//10\n",
    "        if res==x:\n",
    "            return True\n",
    "        else:\n",
    "            return False"
   ]
  },
  {
   "cell_type": "code",
   "execution_count": 93,
   "metadata": {},
   "outputs": [
    {
     "data": {
      "text/plain": [
       "True"
      ]
     },
     "execution_count": 93,
     "metadata": {},
     "output_type": "execute_result"
    }
   ],
   "source": [
    "Palindrome(121)"
   ]
  },
  {
   "cell_type": "markdown",
   "metadata": {},
   "source": [
    "### 13. Roman to Integer"
   ]
  },
  {
   "cell_type": "code",
   "execution_count": null,
   "metadata": {},
   "outputs": [],
   "source": [
    "Roman numerals are represented by seven different symbols: I, V, X, L, C, D and M.\n",
    "\n",
    "Symbol       Value\n",
    "I             1\n",
    "V             5\n",
    "X             10\n",
    "L             50\n",
    "C             100\n",
    "D             500\n",
    "M             1000\n",
    "For example, two is written as II in Roman numeral, just two one's added together. Twelve is written as, XII, which is simply X + II. The number twenty seven is written as XXVII, which is XX + V + II.\n",
    "\n",
    "Roman numerals are usually written largest to smallest from left to right. However, the numeral for four is not IIII. Instead, the number four is written as IV. Because the one is before the five we subtract it making four. The same principle applies to the number nine, which is written as IX. There are six instances where subtraction is used:\n",
    "\n",
    "I can be placed before V (5) and X (10) to make 4 and 9. \n",
    "X can be placed before L (50) and C (100) to make 40 and 90. \n",
    "C can be placed before D (500) and M (1000) to make 400 and 900.\n",
    "Given a roman numeral, convert it to an integer. Input is guaranteed to be within the range from 1 to 3999.\n",
    "\n",
    "\n",
    "Input: \"LVIII\"\n",
    "Output: 58\n",
    "Explanation: L = 50, V= 5, III = 3.\n",
    "    \n",
    "Input: \"MCMXCIV\"\n",
    "Output: 1994\n",
    "Explanation: M = 1000, CM = 900, XC = 90 and IV = 4."
   ]
  },
  {
   "cell_type": "code",
   "execution_count": 4,
   "metadata": {},
   "outputs": [],
   "source": [
    "def romanToInt(s):\n",
    "    dic={'I':1,'V':5,'X':10,'L':50,'C':100,'D':500,'M':1000}\n",
    "    intvalue=0\n",
    "    i=0\n",
    "    while i<len(s)-1:\n",
    "        if dic[s[i]]<dic[s[i+1]]:\n",
    "            intvalue=intvalue-dic[s[i]]\n",
    "        else:\n",
    "            intvalue=intvalue+dic[s[i]]\n",
    "        i+=1\n",
    "    return intvalue+dic[s[-1]] #the rule is if the previous digit less than the latter one, it should be deducted"
   ]
  },
  {
   "cell_type": "code",
   "execution_count": 5,
   "metadata": {},
   "outputs": [
    {
     "data": {
      "text/plain": [
       "1994"
      ]
     },
     "execution_count": 5,
     "metadata": {},
     "output_type": "execute_result"
    }
   ],
   "source": [
    "roman=\"MCMXCIV\"\n",
    "romanToInt(roman)"
   ]
  },
  {
   "cell_type": "markdown",
   "metadata": {},
   "source": [
    "### 14.Longest Common Prefix"
   ]
  },
  {
   "cell_type": "code",
   "execution_count": null,
   "metadata": {},
   "outputs": [],
   "source": [
    "Write a function to find the longest common prefix string amongst an array of strings.\n",
    "\n",
    "If there is no common prefix, return an empty string \"\".\n",
    "\n",
    "Example 1:\n",
    "\n",
    "Input: [\"flower\",\"flow\",\"flight\"]\n",
    "Output: \"fl\"\n",
    "Example 2:\n",
    "\n",
    "Input: [\"dog\",\"racecar\",\"car\"]\n",
    "Output: \"\"\n",
    "Explanation: There is no common prefix among the input strings."
   ]
  },
  {
   "cell_type": "code",
   "execution_count": 37,
   "metadata": {},
   "outputs": [],
   "source": [
    "def longestCommonPrefix(strs):\n",
    "    if len(strs)==0:\n",
    "        return ''\n",
    "    else:\n",
    "        #dic={len(word):word for word in strs}\n",
    "        #shortest_term=dic[min(dic.keys())]\n",
    "        shortest_term=min(strs,key=len)\n",
    "        i=0\n",
    "        while sum([1 for word in strs if shortest_term[:i+1]==word[:i+1]])==len(strs) and i<=len(strs):\n",
    "            i+=1\n",
    "        return shortest_term[:i]"
   ]
  },
  {
   "cell_type": "code",
   "execution_count": 39,
   "metadata": {},
   "outputs": [
    {
     "data": {
      "text/plain": [
       "'dog'"
      ]
     },
     "execution_count": 39,
     "metadata": {},
     "output_type": "execute_result"
    }
   ],
   "source": [
    "strs=[\"dog\",\"racecar\",\"car\"]\n",
    "shortest = min(strs,key=len)\n",
    "shortest"
   ]
  },
  {
   "cell_type": "code",
   "execution_count": 36,
   "metadata": {},
   "outputs": [
    {
     "data": {
      "text/plain": [
       "''"
      ]
     },
     "execution_count": 36,
     "metadata": {},
     "output_type": "execute_result"
    }
   ],
   "source": [
    "input=[\"\"]\n",
    "longestCommonPrefix(input)"
   ]
  },
  {
   "cell_type": "markdown",
   "metadata": {},
   "source": [
    "### 169. Majority Element"
   ]
  },
  {
   "cell_type": "code",
   "execution_count": null,
   "metadata": {},
   "outputs": [],
   "source": [
    "Given an array of size n, find the majority element. The majority element is the element that appears more than ⌊ n/2 ⌋ times.\n",
    "\n",
    "You may assume that the array is non-empty and the majority element always exist in the array.\n",
    "\n",
    "Example 1:\n",
    "\n",
    "Input: [3,2,3]\n",
    "Output: 3\n",
    "Example 2:\n",
    "\n",
    "Input: [2,2,1,1,1,2,2]\n",
    "Output: 2"
   ]
  },
  {
   "cell_type": "code",
   "execution_count": 43,
   "metadata": {},
   "outputs": [],
   "source": [
    "def majorityElement(nums):\n",
    "    dic={}\n",
    "    for x in nums:\n",
    "        if x not in dic:\n",
    "            dic[x]=1\n",
    "        else:\n",
    "            dic[x]+=1\n",
    "    for x in dic:\n",
    "        if dic[x]==max(dic.values()):\n",
    "            return x"
   ]
  },
  {
   "cell_type": "code",
   "execution_count": 44,
   "metadata": {
    "scrolled": true
   },
   "outputs": [
    {
     "data": {
      "text/plain": [
       "2"
      ]
     },
     "execution_count": 44,
     "metadata": {},
     "output_type": "execute_result"
    }
   ],
   "source": [
    "input=[2,2,1,1,1,2,2]\n",
    "majorityElement(input)"
   ]
  },
  {
   "cell_type": "markdown",
   "metadata": {},
   "source": [
    "### 172. Factorial Trailing Zeroes"
   ]
  },
  {
   "cell_type": "markdown",
   "metadata": {},
   "source": [
    "Given an integer n, return the number of trailing zeroes in n!.\n",
    "\n",
    "Example 1:\n",
    "\n",
    "Input: 3\n",
    "Output: 0\n",
    "Explanation: 3! = 6, no trailing zero.\n",
    "Example 2:\n",
    "\n",
    "Input: 5\n",
    "Output: 1\n",
    "Explanation: 5! = 120, one trailing zero."
   ]
  },
  {
   "cell_type": "code",
   "execution_count": 62,
   "metadata": {},
   "outputs": [],
   "source": [
    "def trailingZeros(n):#time limit\n",
    "    a=1\n",
    "    for i in range(1,n+1):\n",
    "        a=a*i\n",
    "    trail=0\n",
    "    while a%10==0:\n",
    "        trail+=1\n",
    "        a=a/10\n",
    "    return trail"
   ]
  },
  {
   "cell_type": "code",
   "execution_count": 68,
   "metadata": {},
   "outputs": [],
   "source": [
    "def trailingZeros(n):\n",
    "    result=0\n",
    "    while n>0:\n",
    "        result+=n//5 #generate new 0 like(25,125)\n",
    "        n=n//5\n",
    "    return result"
   ]
  },
  {
   "cell_type": "code",
   "execution_count": 69,
   "metadata": {},
   "outputs": [
    {
     "data": {
      "text/plain": [
       "1"
      ]
     },
     "execution_count": 69,
     "metadata": {},
     "output_type": "execute_result"
    }
   ],
   "source": [
    "trailingZeros(5)"
   ]
  },
  {
   "cell_type": "markdown",
   "metadata": {},
   "source": [
    "### Valid Parentheses"
   ]
  },
  {
   "cell_type": "code",
   "execution_count": null,
   "metadata": {},
   "outputs": [],
   "source": [
    "Given a string containing just the characters '(', ')', '{', '}', '[' and ']', determine if the input string is valid.\n",
    "\n",
    "An input string is valid if:\n",
    "\n",
    "Open brackets must be closed by the same type of brackets.\n",
    "Open brackets must be closed in the correct order.\n",
    "Note that an empty string is also considered valid.\n",
    "\n",
    "Input: \"()\"\n",
    "Output: true\n",
    "\n",
    "Input: \"()[][]\"\n",
    "Output: true\n",
    "\n",
    "Input: \"(]\"\n",
    "Output: false\n",
    "    \n",
    "Input: \"([)]\"\n",
    "Output: false\n",
    "\n",
    "Input: \"{[]}\"\n",
    "Output: true"
   ]
  },
  {
   "cell_type": "code",
   "execution_count": 103,
   "metadata": {},
   "outputs": [],
   "source": [
    "def isValid(s):\n",
    "    if s=='':\n",
    "        return True\n",
    "    else:\n",
    "        parlist=['()','[]','{}']\n",
    "        while '()'in s or '[]'in s or '{}'in s:\n",
    "            if '()' in s:\n",
    "                s=s.replace('()','')\n",
    "            elif '[]' in s:\n",
    "                s=s.replace('[]','')\n",
    "            else:\n",
    "                s=s.replace('{}','')\n",
    "        if s=='':\n",
    "            return True\n",
    "        else:\n",
    "            return False"
   ]
  },
  {
   "cell_type": "code",
   "execution_count": 108,
   "metadata": {},
   "outputs": [],
   "source": [
    "def isValid(s):\n",
    "    if s=='':\n",
    "        return True\n",
    "    stack=[]\n",
    "    dic={'(':')','[':']','{':'}'}\n",
    "    for i in s:\n",
    "        if i in dic:\n",
    "            stack.append(i)\n",
    "        elif len(stack)==0 or dic[stack.pop()]!=i:#先出)\n",
    "            return False\n",
    "    if stack==[]:\n",
    "        return True"
   ]
  },
  {
   "cell_type": "code",
   "execution_count": 109,
   "metadata": {},
   "outputs": [
    {
     "data": {
      "text/plain": [
       "True"
      ]
     },
     "execution_count": 109,
     "metadata": {},
     "output_type": "execute_result"
    }
   ],
   "source": [
    "isValid(\"{[]}\")"
   ]
  },
  {
   "cell_type": "code",
   "execution_count": 116,
   "metadata": {},
   "outputs": [
    {
     "data": {
      "text/plain": [
       "0.062677"
      ]
     },
     "execution_count": 116,
     "metadata": {},
     "output_type": "execute_result"
    }
   ],
   "source": [
    "import numpy as np\n",
    "foursec=0\n",
    "for _ in range(1000000):\n",
    "    if sum([1 if np.random.random()<0.5 else 0 for i in range(4)])==4:\n",
    "        foursec+=1\n",
    "foursec/1000000"
   ]
  },
  {
   "cell_type": "markdown",
   "metadata": {},
   "source": [
    "### 190. Reverse Bits"
   ]
  },
  {
   "cell_type": "markdown",
   "metadata": {},
   "source": [
    "Reverse bits of a given 32 bits unsigned integer.\n",
    "\n",
    "\n",
    "Input: 00000010100101000001111010011100\n",
    "Output: 00111001011110000010100101000000\n",
    "Explanation: The input binary string 00000010100101000001111010011100 represents the unsigned integer 43261596, so return 964176192 which its binary representation is 00111001011110000010100101000000.\n",
    "\n",
    "Input: 11111111111111111111111111111101\n",
    "Output: 10111111111111111111111111111111\n",
    "Explanation: The input binary string 11111111111111111111111111111101 represents the unsigned integer 4294967293, so return 3221225471 which its binary representation is 10101111110010110010011101101001."
   ]
  },
  {
   "cell_type": "code",
   "execution_count": 140,
   "metadata": {},
   "outputs": [],
   "source": [
    "def reverseBits(n):\n",
    "    \"\"\"\n",
    "    Input decimal-->binary-->reversed-->decimal\n",
    "    \"\"\"\n",
    "    oribin='{0:032b}'.format(n)\n",
    "    print(oribin)\n",
    "    #reversebin=int(''.join(reversed(oribin)),2)\n",
    "    return oribin[::-1]"
   ]
  },
  {
   "cell_type": "code",
   "execution_count": 144,
   "metadata": {},
   "outputs": [],
   "source": [
    "def reverseBits(n):\n",
    "    oribin='{0:032b}'.format(n)#-->binary\n",
    "    revoribin=oribin[::-1]#reversed binary\n",
    "    decimal=0\n",
    "    for i in range(len(oribin)):\n",
    "        decimal+=int(oribin[i])*2**i\n",
    "    return decimal\n",
    "              "
   ]
  },
  {
   "cell_type": "markdown",
   "metadata": {},
   "source": [
    "### 191.Number of 1 Bits"
   ]
  },
  {
   "cell_type": "code",
   "execution_count": null,
   "metadata": {},
   "outputs": [],
   "source": [
    "Write a function that takes an unsigned integer and return the number of '1' bits it has (also known as the Hamming weight).\n",
    "\n",
    "Input: 00000000000000000000000000001011\n",
    "Output: 3\n",
    "Explanation: The input binary string 00000000000000000000000000001011 has a total of three '1' bits.\n",
    "\n",
    "Input: 00000000000000000000000010000000\n",
    "Output: 1\n",
    "Explanation: The input binary string 00000000000000000000000010000000 has a total of one '1' bit.\n",
    "\n",
    "Input: 11111111111111111111111111111101\n",
    "Output: 31\n",
    "Explanation: The input binary string 11111111111111111111111111111101 has a total of thirty one '1' bits."
   ]
  },
  {
   "cell_type": "code",
   "execution_count": 151,
   "metadata": {},
   "outputs": [],
   "source": [
    "def hammingWeight(n):\n",
    "    \"\"\"\n",
    "    type n: int(decimal)\n",
    "    \"\"\"\n",
    "    oribin=bin(n)\n",
    "    return sum([1 for d in oribin if d!='0'])"
   ]
  },
  {
   "cell_type": "markdown",
   "metadata": {},
   "source": [
    "### 198.House Robber"
   ]
  },
  {
   "cell_type": "code",
   "execution_count": null,
   "metadata": {},
   "outputs": [],
   "source": [
    "You are a professional robber planning to rob houses along a street. Each house has a certain amount of money stashed, the only constraint stopping you from robbing each of them is that adjacent houses have security system connected and it will automatically contact the police if two adjacent houses were broken into on the same night.\n",
    "\n",
    "Given a list of non-negative integers representing the amount of money of each house, determine the maximum amount of money you can rob tonight without alerting the police.\n",
    "\n",
    "\n",
    "Input: [1,2,3,1]\n",
    "Output: 4\n",
    "Explanation: Rob house 1 (money = 1) and then rob house 3 (money = 3).\n",
    "             Total amount you can rob = 1 + 3 = 4.\n",
    "\n",
    "Input: [2,7,9,3,1]\n",
    "Output: 12\n",
    "Explanation: Rob house 1 (money = 2), rob house 3 (money = 9) and rob house 5 (money = 1).\n",
    "             Total amount you can rob = 2 + 9 + 1 = 12."
   ]
  },
  {
   "cell_type": "code",
   "execution_count": 171,
   "metadata": {},
   "outputs": [],
   "source": [
    "def rob(nums):\n",
    "    \"\"\"\n",
    "    return max money can steal\n",
    "    \"\"\"\n",
    "    i=len(nums)\n",
    "    robL=[]\n",
    "    while i>=0:\n",
    "        if rob(nums[:i-2])+nums[i]>=rob(nums[:i-1]):#rob last house\n",
    "            robL.append(i)\n",
    "            i=i-2\n",
    "        else:\n",
    "            i=i-1\n",
    "    return sum(robL)"
   ]
  },
  {
   "cell_type": "code",
   "execution_count": 177,
   "metadata": {},
   "outputs": [],
   "source": [
    "#recursive\n",
    "def rob(nums):\n",
    "    \"\"\"\n",
    "    return max money can steal\n",
    "    \"\"\"\n",
    "    if len(nums)==0:\n",
    "        return 0\n",
    "    if len(nums)<=2:\n",
    "        return max(nums)\n",
    "    res=[0]*len(nums)\n",
    "    res[0],res[1]=nums[0],max(nums[0],nums[1])\n",
    "    for i in range(2,len(nums)):\n",
    "        res[i]=max(res[i-2]+nums[i],res[i-1])#from 0 to i house, accumulated max money has stole\n",
    "    return res[-1]"
   ]
  },
  {
   "cell_type": "code",
   "execution_count": 176,
   "metadata": {},
   "outputs": [
    {
     "data": {
      "text/plain": [
       "12"
      ]
     },
     "execution_count": 176,
     "metadata": {},
     "output_type": "execute_result"
    }
   ],
   "source": [
    "nums=[2,7,9,3,1]\n",
    "rob(nums)"
   ]
  },
  {
   "cell_type": "markdown",
   "metadata": {},
   "source": [
    "### 70. Climbing Stairs 2nd time"
   ]
  },
  {
   "cell_type": "code",
   "execution_count": null,
   "metadata": {},
   "outputs": [],
   "source": [
    "You are climbing a stair case. It takes n steps to reach to the top.\n",
    "\n",
    "Each time you can either climb 1 or 2 steps. In how many distinct ways can you climb to the top?\n",
    "\n",
    "Note: Given n will be a positive integer.\n",
    "    \n",
    "Input: 2\n",
    "Output: 2\n",
    "Explanation: There are two ways to climb to the top.\n",
    "1. 1 step + 1 step\n",
    "2. 2 steps\n",
    "\n",
    "Input: 3\n",
    "Output: 3\n",
    "Explanation: There are three ways to climb to the top.\n",
    "1. 1 step + 1 step + 1 step\n",
    "2. 1 step + 2 steps\n",
    "3. 2 steps + 1 step"
   ]
  },
  {
   "cell_type": "code",
   "execution_count": 182,
   "metadata": {},
   "outputs": [],
   "source": [
    "def climbStairs(n):\n",
    "    \"\"\"\n",
    "    f(n)=f(n-1)+f(n-2)\n",
    "    \"\"\"\n",
    "    if n<=1:\n",
    "        return n\n",
    "    res=[0]*n\n",
    "    res[0],res[1]=1,2\n",
    "    for i in range(2,n):\n",
    "        res[i]=res[i-1]+res[i-2]\n",
    "    return res[-1]"
   ]
  },
  {
   "cell_type": "markdown",
   "metadata": {},
   "source": [
    "### 7. Reverse Integer"
   ]
  },
  {
   "cell_type": "code",
   "execution_count": null,
   "metadata": {},
   "outputs": [],
   "source": [
    "Input: 123\n",
    "Output: 321\n",
    "\n",
    "Input: -123\n",
    "Output: -321\n",
    "\n",
    "Input: 120\n",
    "Output: 21"
   ]
  },
  {
   "cell_type": "code",
   "execution_count": 188,
   "metadata": {},
   "outputs": [],
   "source": [
    "def reverse(x):\n",
    "    if x<0:\n",
    "        return -reverse(-x)\n",
    "    else:\n",
    "        rev=0\n",
    "        while x>0:\n",
    "            rev=rev*10+x%10\n",
    "            x=x//10\n",
    "    return rev\n",
    "    #return rev if -(2**31)-1<rev< 2**31 else 0 #cheat code to meet 'Given a 32-bit signed integer'"
   ]
  },
  {
   "cell_type": "code",
   "execution_count": 190,
   "metadata": {},
   "outputs": [
    {
     "data": {
      "text/plain": [
       "9646324351"
      ]
     },
     "execution_count": 190,
     "metadata": {},
     "output_type": "execute_result"
    }
   ],
   "source": [
    "reverse(1534236469)"
   ]
  },
  {
   "cell_type": "markdown",
   "metadata": {},
   "source": [
    "### 202. Happy Number"
   ]
  },
  {
   "cell_type": "code",
   "execution_count": null,
   "metadata": {},
   "outputs": [],
   "source": [
    "Write an algorithm to determine if a number is \"happy\".\n",
    "\n",
    "Starting with any positive integer, replace the number by the sum of the squares of its digits, \n",
    "and repeat the process until the number equals 1 (where it will stay), \n",
    "or it loops endlessly in a cycle which does not include 1. \n",
    "Those numbers for which this process ends in 1 are happy numbers.\n",
    "\n",
    "Input: 19\n",
    "Output: true\n",
    "Explanation: \n",
    "1**2 + 9**2 = 82\n",
    "8**2 + 2**2 = 68\n",
    "6**2 + 8**2 = 100\n",
    "1**2 + 0**2 + 0**2 = 1"
   ]
  },
  {
   "cell_type": "code",
   "execution_count": 35,
   "metadata": {},
   "outputs": [],
   "source": [
    "def isHappy(n):\n",
    "    if n==1:\n",
    "        return True\n",
    "    else:\n",
    "        import numpy as np\n",
    "        historySum=[]\n",
    "        sum=n\n",
    "        while sum!=1:\n",
    "            sum=np.sum([int(digit)**2 for digit in str(sum)])\n",
    "            if sum==1:\n",
    "                return True\n",
    "            elif sum in historySum:\n",
    "                return False\n",
    "            else:\n",
    "                historySum.append(sum)"
   ]
  },
  {
   "cell_type": "code",
   "execution_count": 41,
   "metadata": {},
   "outputs": [
    {
     "data": {
      "text/plain": [
       "81"
      ]
     },
     "execution_count": 41,
     "metadata": {},
     "output_type": "execute_result"
    }
   ],
   "source": [
    "pow(19%10,2)"
   ]
  },
  {
   "cell_type": "markdown",
   "metadata": {},
   "source": [
    "### 167. Two Sum II - Input array is sorted 2nd"
   ]
  },
  {
   "cell_type": "code",
   "execution_count": null,
   "metadata": {},
   "outputs": [],
   "source": [
    "Given an array of integers that is already sorted in ascending order, find two numbers such that they add up to a specific target number.\n",
    "\n",
    "The function twoSum should return indices of the two numbers such that they add up to the target, where index1 must be less than index2.\n",
    "\n",
    "Note:\n",
    "\n",
    "Your returned answers (both index1 and index2) are not zero-based.\n",
    "You may assume that each input would have exactly one solution and you may not use the same element twice.\n",
    "Example:\n",
    "\n",
    "Input: numbers = [2,7,11,15], target = 9\n",
    "Output: [1,2]\n",
    "Explanation: The sum of 2 and 7 is 9. Therefore index1 = 1, index2 = 2."
   ]
  },
  {
   "cell_type": "code",
   "execution_count": 46,
   "metadata": {},
   "outputs": [],
   "source": [
    "#two-pointer\n",
    "def twoSum(numbers,target):\n",
    "    l,r=0,len(numbers)-1\n",
    "    while l<r:\n",
    "        if numbers[l]+numbers[r]==target:\n",
    "            return [l,r]\n",
    "        elif numbers[l]+numbers[r]>target:\n",
    "            r-=1\n",
    "        else:\n",
    "            l+=1"
   ]
  },
  {
   "cell_type": "code",
   "execution_count": 57,
   "metadata": {},
   "outputs": [],
   "source": [
    "#binary search\n",
    "def twoSum(numbers,target):\n",
    "    length=len(numbers)-1\n",
    "    for i in range(len(numbers)):\n",
    "        l,r=i+1,length\n",
    "        while l<=r:\n",
    "            mid=(l+r)//2\n",
    "            if numbers[i]+numbers[mid]>target:\n",
    "                r=mid-1\n",
    "            elif numbers[i]+numbers[mid]<target:\n",
    "                l=mid+1\n",
    "            else:\n",
    "                return [i+1,mid+1]"
   ]
  },
  {
   "cell_type": "code",
   "execution_count": 58,
   "metadata": {},
   "outputs": [
    {
     "data": {
      "text/plain": [
       "[1, 2]"
      ]
     },
     "execution_count": 58,
     "metadata": {},
     "output_type": "execute_result"
    }
   ],
   "source": [
    "twoSum([2,7,11,15],9)"
   ]
  },
  {
   "cell_type": "markdown",
   "metadata": {},
   "source": [
    "### 26. Remove Duplicates from Sorted Array 2nd time"
   ]
  },
  {
   "cell_type": "code",
   "execution_count": null,
   "metadata": {},
   "outputs": [],
   "source": [
    "Given a sorted array nums, remove the duplicates in-place such that each element appear only once and return the new length.\n",
    "\n",
    "Do not allocate extra space for another array, you must do this by modifying the input array in-place with O(1) extra memory.\n",
    "\n",
    "\n",
    "Given nums = [1,1,2],\n",
    "\n",
    "Your function should return length = 2, with the first two elements of nums being 1 and 2 respectively."
   ]
  },
  {
   "cell_type": "code",
   "execution_count": 69,
   "metadata": {},
   "outputs": [],
   "source": [
    "def removeDuplicates(nums):\n",
    "    dic={x:1 for x in nums}\n",
    "    nums[:]=sorted([x for x in dic.keys()])\n",
    "    return len(nums)"
   ]
  },
  {
   "cell_type": "code",
   "execution_count": 70,
   "metadata": {},
   "outputs": [
    {
     "data": {
      "text/plain": [
       "5"
      ]
     },
     "execution_count": 70,
     "metadata": {},
     "output_type": "execute_result"
    }
   ],
   "source": [
    "nums = [0,0,1,1,1,2,2,3,3,4]\n",
    "removeDuplicates(nums)"
   ]
  },
  {
   "cell_type": "markdown",
   "metadata": {},
   "source": [
    "### 205. Isomorphic Strings"
   ]
  },
  {
   "cell_type": "code",
   "execution_count": null,
   "metadata": {},
   "outputs": [],
   "source": [
    "Two strings are isomorphic if the characters in s can be replaced to get t.\n",
    "\n",
    "All occurrences of a character must be replaced with another character while preserving the order of characters. No two characters may map to the same character but a character may map to itself.\n",
    "\n",
    "Input: s = \"egg\", t = \"add\"\n",
    "Output: true\n",
    "\n",
    "Input: s = \"foo\", t = \"bar\"\n",
    "Output: false\n",
    "\n",
    "Input: s = \"paper\", t = \"title\"\n",
    "Output: true\n",
    "Note:\n",
    "You may assume both s and t have the same length."
   ]
  },
  {
   "cell_type": "code",
   "execution_count": 29,
   "metadata": {},
   "outputs": [],
   "source": [
    "def isIsomorphic(s,t):\n",
    "    dic1={}\n",
    "    for i in range(len(s)):\n",
    "        if s[i] in dic1:\n",
    "            dic1[s[i]].append(i)\n",
    "        else:\n",
    "            dic1[s[i]]=[i]\n",
    "    dic2={}\n",
    "    for i in range(len(s)):\n",
    "        if t[i] in dic2:\n",
    "            dic2[t[i]].append(i)\n",
    "        else:\n",
    "            dic2[t[i]]=[i]\n",
    "    \n",
    "    return [x for x in dic1.values()] == [x for x in dic2.values()]"
   ]
  },
  {
   "cell_type": "code",
   "execution_count": 43,
   "metadata": {},
   "outputs": [],
   "source": [
    "def isIsomrphic(s,t):\n",
    "    return [s.find(x) for x in s]==[t.find(x) for x in t]"
   ]
  },
  {
   "cell_type": "code",
   "execution_count": 47,
   "metadata": {},
   "outputs": [
    {
     "data": {
      "text/plain": [
       "False"
      ]
     },
     "execution_count": 47,
     "metadata": {},
     "output_type": "execute_result"
    }
   ],
   "source": [
    "isIsomorphic(\"abba\",\"abab\")"
   ]
  },
  {
   "cell_type": "markdown",
   "metadata": {},
   "source": [
    "### 217. Contains Duplicate"
   ]
  },
  {
   "cell_type": "code",
   "execution_count": null,
   "metadata": {},
   "outputs": [],
   "source": [
    "Given an array of integers, find if the array contains any duplicates.\n",
    "\n",
    "Your function should return true if any value appears at least twice in the array, and it should return false if every element is distinct.\n",
    "\n",
    "\n",
    "Input: [1,2,3,1]\n",
    "Output: true\n",
    "\n",
    "Input: [1,2,3,4]\n",
    "Output: false\n",
    "\n",
    "Input: [1,1,1,3,3,4,3,2,4,2]\n",
    "Output: true"
   ]
  },
  {
   "cell_type": "code",
   "execution_count": 52,
   "metadata": {},
   "outputs": [],
   "source": [
    "def containDuplicate(nums): #Time Limit\n",
    "    i=0\n",
    "    while i<len(nums)-1:\n",
    "        if sorted(nums)[i]==sorted(nums)[i+1]:\n",
    "            return True\n",
    "        else:\n",
    "            i+=1\n",
    "    return False"
   ]
  },
  {
   "cell_type": "code",
   "execution_count": 106,
   "metadata": {},
   "outputs": [],
   "source": [
    "def containDuplicates(nums):\n",
    "    s=set()\n",
    "    for x in nums:\n",
    "        if x not in s:\n",
    "            s.add(x)\n",
    "        else:\n",
    "            return True\n",
    "    return False"
   ]
  },
  {
   "cell_type": "code",
   "execution_count": 113,
   "metadata": {},
   "outputs": [],
   "source": [
    "def containDuplicates(nums):\n",
    "    L=[]\n",
    "    for x in nums:\n",
    "        if x not in L:\n",
    "            L.append(x)\n",
    "        else:\n",
    "            return True\n",
    "    return False"
   ]
  },
  {
   "cell_type": "code",
   "execution_count": 108,
   "metadata": {},
   "outputs": [],
   "source": [
    "def containsDuplicate(self, nums):\n",
    "    \"\"\"\n",
    "    :type nums: List[int]\n",
    "    :rtype: bool\n",
    "    \"\"\"\n",
    "    return len(nums)>len(set(nums))"
   ]
  },
  {
   "cell_type": "code",
   "execution_count": 114,
   "metadata": {},
   "outputs": [
    {
     "data": {
      "text/plain": [
       "False"
      ]
     },
     "execution_count": 114,
     "metadata": {},
     "output_type": "execute_result"
    }
   ],
   "source": [
    "nums=[1,2,3,4]\n",
    "containDuplicates(nums)"
   ]
  },
  {
   "cell_type": "markdown",
   "metadata": {},
   "source": [
    "### 219. Contains Duplicate II"
   ]
  },
  {
   "cell_type": "code",
   "execution_count": null,
   "metadata": {},
   "outputs": [],
   "source": [
    "Given an array of integers and an integer k, find out whether there are two distinct indices i and j in the array such that nums[i] = nums[j] and the absolute difference between i and j is at most k.\n",
    "\n",
    "\n",
    "Input: nums = [1,2,3,1], k = 3\n",
    "Output: true\n",
    "\n",
    "Input: nums = [1,0,1,1], k = 1\n",
    "Output: true\n",
    "\n",
    "Input: nums = [1,2,3,1,2,3], k = 2\n",
    "Output: false"
   ]
  },
  {
   "cell_type": "code",
   "execution_count": 129,
   "metadata": {},
   "outputs": [],
   "source": [
    "def containNearbyDuplicate(nums,k):#Time Limit\n",
    "    i=0\n",
    "    while i<len(nums):\n",
    "        tnums=nums[0:i]+nums[i+1:]\n",
    "        if len(set(tnums))==len(set(nums)):#duplicate\n",
    "            m=i+1\n",
    "            while m<len(nums):\n",
    "                if nums[m]==nums[i] and m-i<=k:\n",
    "                    return True\n",
    "                else:\n",
    "                    m+=1\n",
    "        i+=1 #move on\n",
    "    return False"
   ]
  },
  {
   "cell_type": "code",
   "execution_count": 138,
   "metadata": {},
   "outputs": [],
   "source": [
    "#using index-->enumerate\n",
    "#do saving -->dic instead of \n",
    "\n",
    "def containNearbyDuplicate(nums,k):\n",
    "    dic={}\n",
    "    for i,v in enumerate(nums):\n",
    "        if v in dic and i-dic[v]<=k:\n",
    "            return True\n",
    "        dic[v]=i #important!#always store the latest index if having same value\n",
    "    return False"
   ]
  },
  {
   "cell_type": "code",
   "execution_count": 137,
   "metadata": {},
   "outputs": [
    {
     "data": {
      "text/plain": [
       "False"
      ]
     },
     "execution_count": 137,
     "metadata": {},
     "output_type": "execute_result"
    }
   ],
   "source": [
    "nums = [1,2,3,1,2,3]\n",
    "k = 2\n",
    "containNearbyDuplicate(nums,k)"
   ]
  },
  {
   "cell_type": "markdown",
   "metadata": {},
   "source": [
    "### 231. Power of Two"
   ]
  },
  {
   "cell_type": "code",
   "execution_count": null,
   "metadata": {},
   "outputs": [],
   "source": [
    "Given an integer, write a function to determine if it is a power of two.\n",
    "\n",
    "Input: 1\n",
    "Output: true \n",
    "Explanation: 2**0 = 1\n",
    "\n",
    "Output: true\n",
    "Explanation: 2**4 = 16"
   ]
  },
  {
   "cell_type": "code",
   "execution_count": 147,
   "metadata": {},
   "outputs": [],
   "source": [
    "def isPowerOfTwo(n):\n",
    "    if n<=0:\n",
    "        return False\n",
    "    else:\n",
    "        while n>1:\n",
    "            if n%2!=0:\n",
    "                return False\n",
    "            else:\n",
    "                n=n/2\n",
    "    return True"
   ]
  },
  {
   "cell_type": "code",
   "execution_count": 148,
   "metadata": {},
   "outputs": [
    {
     "data": {
      "text/plain": [
       "True"
      ]
     },
     "execution_count": 148,
     "metadata": {},
     "output_type": "execute_result"
    }
   ],
   "source": [
    "isPowerOfTwo(1)"
   ]
  },
  {
   "cell_type": "markdown",
   "metadata": {},
   "source": [
    "### insert 5"
   ]
  },
  {
   "cell_type": "code",
   "execution_count": 150,
   "metadata": {},
   "outputs": [],
   "source": [
    "def returninsertfive(n):\n",
    "    \"\"\"\n",
    "    n:int\n",
    "    \"\"\"\n",
    "    if n<0:\n",
    "        n=-1*n\n",
    "        s=str(n)\n",
    "        L=[]\n",
    "        for i in range(len(s)+1):\n",
    "            l=[d for d in s]\n",
    "            l.insert(i,'5')\n",
    "            L.append(int(''.join(l)))\n",
    "        return min(L)*(-1)\n",
    "    else:\n",
    "        s=str(n)\n",
    "        L=[]\n",
    "        for i in range(len(s)+1):\n",
    "            l=[d for d in s]\n",
    "            l.insert(i,'5')\n",
    "            L.append(int(''.join(l)))\n",
    "        return max(L)"
   ]
  },
  {
   "cell_type": "code",
   "execution_count": 151,
   "metadata": {},
   "outputs": [
    {
     "data": {
      "text/plain": [
       "51"
      ]
     },
     "execution_count": 151,
     "metadata": {},
     "output_type": "execute_result"
    }
   ],
   "source": [
    "returninsertfive(1)"
   ]
  },
  {
   "cell_type": "code",
   "execution_count": null,
   "metadata": {},
   "outputs": [],
   "source": []
  },
  {
   "cell_type": "code",
   "execution_count": null,
   "metadata": {},
   "outputs": [],
   "source": []
  }
 ],
 "metadata": {
  "kernelspec": {
   "display_name": "Python 3",
   "language": "python",
   "name": "python3"
  },
  "language_info": {
   "codemirror_mode": {
    "name": "ipython",
    "version": 3
   },
   "file_extension": ".py",
   "mimetype": "text/x-python",
   "name": "python",
   "nbconvert_exporter": "python",
   "pygments_lexer": "ipython3",
   "version": "3.7.0"
  }
 },
 "nbformat": 4,
 "nbformat_minor": 2
}
