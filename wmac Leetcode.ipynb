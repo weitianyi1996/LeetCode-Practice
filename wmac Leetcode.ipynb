{
 "cells": [
  {
   "cell_type": "code",
   "execution_count": null,
   "metadata": {},
   "outputs": [],
   "source": [
    "Input: [\"aflower\",\"flow\",\"flight\"]\n",
    "Output: \"fl\""
   ]
  },
  {
   "cell_type": "code",
   "execution_count": 35,
   "metadata": {},
   "outputs": [],
   "source": [
    "Input=[\"falower\",\"fblow\",\"cflight\"]"
   ]
  },
  {
   "cell_type": "code",
   "execution_count": 8,
   "metadata": {},
   "outputs": [],
   "source": [
    "minimum=min([len(string) for string in Input ])\n",
    "dict1={}\n",
    "for i in range(minimum+1):\n",
    "    dict1[i]=[string[:i] for string in Input]"
   ]
  },
  {
   "cell_type": "code",
   "execution_count": 16,
   "metadata": {},
   "outputs": [
    {
     "name": "stdout",
     "output_type": "stream",
     "text": [
      "2\n",
      "1\n",
      "0\n"
     ]
    }
   ],
   "source": [
    "for key in range(minimum,-1,-1):\n",
    "    if len(set(dict1[key]))==1:\n",
    "        print(key)"
   ]
  },
  {
   "cell_type": "code",
   "execution_count": 33,
   "metadata": {},
   "outputs": [],
   "source": [
    "def longestCommonPrefix(strs):\n",
    "    minimum=min([len(str) for str in strs])\n",
    "    dict1={}\n",
    "    for i in range(minimum+1):\n",
    "        dict1[i]= [str[:i] for str in strs]\n",
    "    L=[]\n",
    "    for key in range(minimum,-1,-1):\n",
    "        if len(set(dict1[key]))==1:\n",
    "            L.append(key)\n",
    "    return strs[0][:max(L)]"
   ]
  },
  {
   "cell_type": "code",
   "execution_count": 36,
   "metadata": {},
   "outputs": [
    {
     "data": {
      "text/plain": [
       "''"
      ]
     },
     "execution_count": 36,
     "metadata": {},
     "output_type": "execute_result"
    }
   ],
   "source": [
    "longestCommonPrefix(Input)"
   ]
  },
  {
   "cell_type": "code",
   "execution_count": 3,
   "metadata": {},
   "outputs": [
    {
     "data": {
      "text/plain": [
       "False"
      ]
     },
     "execution_count": 3,
     "metadata": {},
     "output_type": "execute_result"
    }
   ],
   "source": [
    "not 'a'"
   ]
  },
  {
   "cell_type": "markdown",
   "metadata": {},
   "source": [
    "### Find min sub array to make the whole array sorted"
   ]
  },
  {
   "cell_type": "markdown",
   "metadata": {},
   "source": [
    "Input: [2, 6, 4, 8, 10, 9, 15]\n",
    "Output: 5\n",
    "Explanation: You need to sort [6, 4, 8, 10, 9] in ascending order to make the whole array sorted in ascending order."
   ]
  },
  {
   "cell_type": "code",
   "execution_count": 3,
   "metadata": {},
   "outputs": [],
   "source": [
    "nums=[2, 6, 4, 8, 10, 9, 15]"
   ]
  },
  {
   "cell_type": "code",
   "execution_count": 4,
   "metadata": {},
   "outputs": [
    {
     "data": {
      "text/plain": [
       "[2, 4, 6, 8, 9, 10, 15]"
      ]
     },
     "execution_count": 4,
     "metadata": {},
     "output_type": "execute_result"
    }
   ],
   "source": [
    "nums2=sorted(nums)\n",
    "nums2"
   ]
  },
  {
   "cell_type": "code",
   "execution_count": 5,
   "metadata": {},
   "outputs": [
    {
     "data": {
      "text/plain": [
       "[6, 4, 8, 10]"
      ]
     },
     "execution_count": 5,
     "metadata": {},
     "output_type": "execute_result"
    }
   ],
   "source": [
    "a=[i for i in range(len(nums)) if nums[i]!=nums2[i] ]\n",
    "nums[min(a):max(a)]"
   ]
  },
  {
   "cell_type": "code",
   "execution_count": 7,
   "metadata": {},
   "outputs": [
    {
     "data": {
      "text/plain": [
       "[6, 4, 8, 10, 9]"
      ]
     },
     "execution_count": 7,
     "metadata": {},
     "output_type": "execute_result"
    }
   ],
   "source": [
    "nums[min(a):max(a)+1]"
   ]
  },
  {
   "cell_type": "code",
   "execution_count": 27,
   "metadata": {},
   "outputs": [],
   "source": [
    "def retsub(nums):\n",
    "    nums2=sorted(nums)\n",
    "    if nums2!=nums:\n",
    "        a=[i for i in range(len(nums)) if nums[i]!=nums2[i]]\n",
    "        submax=nums[min(a):max(a)+1]\n",
    "        return len(submax)\n",
    "    else:\n",
    "        return 0"
   ]
  },
  {
   "cell_type": "code",
   "execution_count": 55,
   "metadata": {},
   "outputs": [],
   "source": [
    "def retsub(nums):\n",
    "    nums2=sorted(nums)\n",
    "    return len(nums[min([i for i in range(len(nums)) if nums[i]!=nums2[i]]):max([i for i in range(len(nums)) if nums[i]!=nums2[i]])+1]) if nums!=nums2 else 0"
   ]
  },
  {
   "cell_type": "code",
   "execution_count": 31,
   "metadata": {},
   "outputs": [
    {
     "name": "stdout",
     "output_type": "stream",
     "text": [
      "Wall time: 0 ns\n"
     ]
    },
    {
     "data": {
      "text/plain": [
       "5"
      ]
     },
     "execution_count": 31,
     "metadata": {},
     "output_type": "execute_result"
    }
   ],
   "source": [
    "%time\n",
    "retsub([2,6,4,8,10,9,15])"
   ]
  },
  {
   "cell_type": "code",
   "execution_count": 25,
   "metadata": {},
   "outputs": [
    {
     "data": {
      "text/plain": [
       "False"
      ]
     },
     "execution_count": 25,
     "metadata": {},
     "output_type": "execute_result"
    }
   ],
   "source": [
    "[2,6,4,8,10,9,15]==sorted([2,6,4,8,10,9,15])"
   ]
  },
  {
   "cell_type": "code",
   "execution_count": 54,
   "metadata": {},
   "outputs": [
    {
     "data": {
      "text/plain": [
       "([2, 6, 4, 8, 10, 9, 15], [15, 9, 10, 8, 4, 6, 2])"
      ]
     },
     "execution_count": 54,
     "metadata": {},
     "output_type": "execute_result"
    }
   ],
   "source": [
    "nums,nums[6::-1]"
   ]
  },
  {
   "cell_type": "code",
   "execution_count": 51,
   "metadata": {},
   "outputs": [
    {
     "data": {
      "text/plain": [
       "([True, False, False, True, False, False, True],\n",
       " [True, False, False, True, False, False, True])"
      ]
     },
     "execution_count": 51,
     "metadata": {},
     "output_type": "execute_result"
    }
   ],
   "source": [
    "is_same = [a == b for a, b in zip(nums, sorted(nums))]\n",
    "is_same,is_same[::-1]"
   ]
  },
  {
   "cell_type": "code",
   "execution_count": null,
   "metadata": {},
   "outputs": [],
   "source": [
    "def findUnsortedSubarray(self, nums):\n",
    "        is_same = [a == b for a, b in zip(nums, sorted(nums))]\n",
    "        return 0 if all(is_same) else len(nums) - is_same.index(False) - is_same[::-1].index(False)"
   ]
  },
  {
   "cell_type": "code",
   "execution_count": null,
   "metadata": {},
   "outputs": [],
   "source": []
  },
  {
   "cell_type": "markdown",
   "metadata": {},
   "source": [
    " ### find prime"
   ]
  },
  {
   "cell_type": "markdown",
   "metadata": {},
   "source": [
    "Input: 10\n",
    "Output: 4\n",
    "Explanation: There are 4 prime numbers less than 10, they are 2, 3, 5, 7."
   ]
  },
  {
   "cell_type": "code",
   "execution_count": 5,
   "metadata": {},
   "outputs": [],
   "source": [
    "def findprime(n):\n",
    "    if n>2:\n",
    "        s=1\n",
    "        for i in range(3,n):\n",
    "            if i%2!=0:\n",
    "                if sum([1 if i%x==0 else 0 for x in range(3,int(i**0.5)+1) ])==0: #get the prime\n",
    "                    s+=1\n",
    "        return s\n",
    "    else:\n",
    "        return 0\n",
    "            "
   ]
  },
  {
   "cell_type": "code",
   "execution_count": 10,
   "metadata": {},
   "outputs": [
    {
     "data": {
      "text/plain": [
       "4"
      ]
     },
     "execution_count": 10,
     "metadata": {},
     "output_type": "execute_result"
    }
   ],
   "source": [
    "findprime(11)"
   ]
  },
  {
   "cell_type": "code",
   "execution_count": 26,
   "metadata": {},
   "outputs": [],
   "source": [
    "def countprimes(n):\n",
    "    if n<3:\n",
    "        return 0\n",
    "    primes=[True]*n\n",
    "    primes[0]=primes[1]=False\n",
    "    for i in range(2,int(n**0.5)+1):\n",
    "        if primes[i]:\n",
    "            primes[i**2:n:i]=[False]*len(primes[i**2:n:i])\n",
    "    return sum(primes)"
   ]
  },
  {
   "cell_type": "code",
   "execution_count": 27,
   "metadata": {},
   "outputs": [
    {
     "data": {
      "text/plain": [
       "4"
      ]
     },
     "execution_count": 27,
     "metadata": {},
     "output_type": "execute_result"
    }
   ],
   "source": [
    "countprimes(11)"
   ]
  },
  {
   "cell_type": "markdown",
   "metadata": {},
   "source": [
    "### rotate array"
   ]
  },
  {
   "cell_type": "markdown",
   "metadata": {},
   "source": [
    "Given an array, rotate the array to the right by k steps, where k is non-negative.\n",
    "\n",
    "Example 1:\n",
    "\n",
    "Input: [1,2,3,4,5,6,7] and k = 3\n",
    "Output: [5,6,7,1,2,3,4]\n",
    "Explanation:\n",
    "rotate 1 steps to the right: [7,1,2,3,4,5,6]\n",
    "rotate 2 steps to the right: [6,7,1,2,3,4,5]\n",
    "rotate 3 steps to the right: [5,6,7,1,2,3,4]\n",
    "Example 2:\n",
    "\n",
    "Input: [-1,-100,3,99] and k = 2\n",
    "Output: [3,99,-1,-100]\n",
    "Explanation: \n",
    "rotate 1 steps to the right: [99,-1,-100,3]\n",
    "rotate 2 steps to the right: [3,99,-1,-100]"
   ]
  },
  {
   "cell_type": "code",
   "execution_count": 116,
   "metadata": {},
   "outputs": [],
   "source": [
    "input=[-1,-100,3,99]"
   ]
  },
  {
   "cell_type": "code",
   "execution_count": 117,
   "metadata": {},
   "outputs": [],
   "source": [
    "def rotateK(nums,k):\n",
    "    k=k%len(nums)\n",
    "    nums[:]=nums[-k:]+nums[:-k]\n",
    "    #nums=nums[-k:]+nums[:-k]\n",
    "    return nums"
   ]
  },
  {
   "cell_type": "code",
   "execution_count": 118,
   "metadata": {},
   "outputs": [
    {
     "data": {
      "text/plain": [
       "[-100, 3, 99, -1]"
      ]
     },
     "execution_count": 118,
     "metadata": {},
     "output_type": "execute_result"
    }
   ],
   "source": [
    "rotateK(input,3)"
   ]
  },
  {
   "cell_type": "code",
   "execution_count": 124,
   "metadata": {},
   "outputs": [
    {
     "data": {
      "text/plain": [
       "([3, 6, 3], [3, 6, 3])"
      ]
     },
     "execution_count": 124,
     "metadata": {},
     "output_type": "execute_result"
    }
   ],
   "source": [
    "input=[1,2,3]\n",
    "def checkcolon(nums):\n",
    "    nums[:]=[3,6,3]\n",
    "    return nums\n",
    "checkcolon(input),input"
   ]
  },
  {
   "cell_type": "code",
   "execution_count": null,
   "metadata": {},
   "outputs": [],
   "source": []
  },
  {
   "cell_type": "markdown",
   "metadata": {},
   "source": [
    "### Valid Palindrome"
   ]
  },
  {
   "cell_type": "markdown",
   "metadata": {},
   "source": [
    "Given a string, determine if it is a palindrome, considering only alphanumeric characters and ignoring cases.\n",
    "\n",
    "Note: For the purpose of this problem, we define empty string as valid palindrome.\n",
    "\n",
    "Example 1:\n",
    "\n",
    "Input: \"A man, a plan, a canal: Panama\"\n",
    "Output: true\n",
    "Example 2:\n",
    "\n",
    "Input: \"race a car\"\n",
    "Output: false"
   ]
  },
  {
   "cell_type": "code",
   "execution_count": 133,
   "metadata": {},
   "outputs": [],
   "source": [
    "input=\"A man, a plan, a canal: Panama\""
   ]
  },
  {
   "cell_type": "code",
   "execution_count": 131,
   "metadata": {},
   "outputs": [
    {
     "data": {
      "text/plain": [
       "'a b'"
      ]
     },
     "execution_count": 131,
     "metadata": {},
     "output_type": "execute_result"
    }
   ],
   "source": [
    "' '.join(['a','b'])"
   ]
  },
  {
   "cell_type": "code",
   "execution_count": 146,
   "metadata": {},
   "outputs": [
    {
     "data": {
      "text/plain": [
       "'ab'"
      ]
     },
     "execution_count": 146,
     "metadata": {},
     "output_type": "execute_result"
    }
   ],
   "source": [
    "'AB'.lower()"
   ]
  },
  {
   "cell_type": "code",
   "execution_count": 147,
   "metadata": {},
   "outputs": [
    {
     "data": {
      "text/plain": [
       "'amanaplanacanalpanama'"
      ]
     },
     "execution_count": 147,
     "metadata": {},
     "output_type": "execute_result"
    }
   ],
   "source": [
    "import string\n",
    "order=''.join([l.lower() for l in input if l!=' ' if l in string.ascii_lowercase or l in string.ascii_uppercase][::-1])\n",
    "order"
   ]
  },
  {
   "cell_type": "code",
   "execution_count": 33,
   "metadata": {},
   "outputs": [],
   "source": [
    "def ispalindrome(s):\n",
    "    import string\n",
    "    order=''.join([l.lower() if l in string.ascii_lowercase or l in string.ascii_uppercase else l if l in [str(digit) for digit in range(0,10)] else '' for l in s if l!=' ' ])\n",
    "    disorder=''.join([l.lower() if l in string.ascii_lowercase or l in string.ascii_uppercase else l if l in [str(digit) for digit in range(0,10)] else '' for l in s if l!=' ' ][::-1])\n",
    "    print(order,disorder)\n",
    "    return True if order==disorder else False\n",
    "    "
   ]
  },
  {
   "cell_type": "markdown",
   "metadata": {},
   "source": [
    "def ispalindrome(s):\n",
    "    import string\n",
    "    order=''.join([l.lower() if l in string.ascii_lowercase or l in string.ascii_uppercase else l if l in range(0,9) else for l in s if l!=' ' ])\n",
    "    disorder=''.join([l.lower() if l in string.ascii_lowercase or l in string.ascii_uppercase else l for l in s if l!=' ' ])\n",
    "    return True if order==disorder else False"
   ]
  },
  {
   "cell_type": "code",
   "execution_count": 34,
   "metadata": {
    "scrolled": true
   },
   "outputs": [
    {
     "data": {
      "text/plain": [
       "['3']"
      ]
     },
     "execution_count": 34,
     "metadata": {},
     "output_type": "execute_result"
    }
   ],
   "source": [
    "s='wt3y:'\n",
    "[i for i in s if i in [str(digit) for digit in range(0,10)]]"
   ]
  },
  {
   "cell_type": "code",
   "execution_count": 48,
   "metadata": {},
   "outputs": [
    {
     "data": {
      "text/plain": [
       "['w', 't', 'x', '3', 'y']"
      ]
     },
     "execution_count": 48,
     "metadata": {},
     "output_type": "execute_result"
    }
   ],
   "source": [
    "s='wTx%3 y:'\n",
    "[l.lower() for l in s if l.isalnum()]"
   ]
  },
  {
   "cell_type": "code",
   "execution_count": 52,
   "metadata": {},
   "outputs": [],
   "source": [
    "def ispalindrome(s):\n",
    "    order= ''.join([l.lower() for l in s if l.isalnum()])\n",
    "    disorder= ''.join([l.lower() for l in s if l.isalnum()][::-1])\n",
    "    return True if order==disorder else False\n",
    "    "
   ]
  },
  {
   "cell_type": "code",
   "execution_count": 53,
   "metadata": {},
   "outputs": [
    {
     "data": {
      "text/plain": [
       "False"
      ]
     },
     "execution_count": 53,
     "metadata": {},
     "output_type": "execute_result"
    }
   ],
   "source": [
    "ispalindrome('wt3y:')"
   ]
  },
  {
   "cell_type": "code",
   "execution_count": null,
   "metadata": {},
   "outputs": [],
   "source": []
  },
  {
   "cell_type": "markdown",
   "metadata": {},
   "source": [
    "### remove duplicates"
   ]
  },
  {
   "cell_type": "code",
   "execution_count": 1,
   "metadata": {},
   "outputs": [],
   "source": [
    "def removeDuplicates(nums):\n",
    "    nums[:]=list(set(nums))\n",
    "    return len(set(nums))"
   ]
  },
  {
   "cell_type": "code",
   "execution_count": 2,
   "metadata": {},
   "outputs": [
    {
     "data": {
      "text/plain": [
       "[0, 3, -1]"
      ]
     },
     "execution_count": 2,
     "metadata": {},
     "output_type": "execute_result"
    }
   ],
   "source": [
    "input=[-1,0,0,0,0,3,3]\n",
    "i=0\n",
    "[input[i] for i in range(removeDuplicates(input))]"
   ]
  },
  {
   "cell_type": "code",
   "execution_count": 7,
   "metadata": {},
   "outputs": [],
   "source": [
    "def removeDuplicate(nums):\n",
    "    if len(nums)==0:\n",
    "        return []\n",
    "    else:\n",
    "        nums[:]=[nums[i] for i in range(len(nums)-1) if nums[i]!=nums[i+1]]+[nums[-1]]\n",
    "        return nums"
   ]
  },
  {
   "cell_type": "code",
   "execution_count": 6,
   "metadata": {},
   "outputs": [
    {
     "data": {
      "text/plain": [
       "[-1, 0, 3]"
      ]
     },
     "execution_count": 6,
     "metadata": {},
     "output_type": "execute_result"
    }
   ],
   "source": [
    "input=[-1,0,0,0,0,3,3]\n",
    "removeDuplicate(input)"
   ]
  },
  {
   "cell_type": "code",
   "execution_count": null,
   "metadata": {},
   "outputs": [],
   "source": []
  },
  {
   "cell_type": "markdown",
   "metadata": {},
   "source": [
    "###  Intern Interview Q"
   ]
  },
  {
   "cell_type": "markdown",
   "metadata": {},
   "source": [
    "2.\n",
    "\n",
    "Sample Input: \n",
    "    String: GHDRDRD\n",
    "    Sub-string: DRD\n",
    "\n",
    "Sample Output: 2"
   ]
  },
  {
   "cell_type": "code",
   "execution_count": 83,
   "metadata": {},
   "outputs": [],
   "source": [
    "string='GHDRDRD'"
   ]
  },
  {
   "cell_type": "code",
   "execution_count": 82,
   "metadata": {
    "scrolled": true
   },
   "outputs": [],
   "source": [
    "def count_substring(string, sub_string):\n",
    "    return sum(string[i:i+len(sub_string)]==sub_string for i in range(len(string)))"
   ]
  },
  {
   "cell_type": "code",
   "execution_count": 84,
   "metadata": {},
   "outputs": [
    {
     "data": {
      "text/plain": [
       "2"
      ]
     },
     "execution_count": 84,
     "metadata": {},
     "output_type": "execute_result"
    }
   ],
   "source": [
    "count_substring('GHDRDRD','DRD')"
   ]
  },
  {
   "cell_type": "markdown",
   "metadata": {},
   "source": [
    "3.\n",
    "\n",
    "Input: [\"eat\", \"tea\", \"tan\", \"ate\", \"nat\", \"bat\"]\n",
    "\n",
    "Output:  [ [\"ate\",\"eat\",\"tea\"],  [\"nat\",\"tan\"],  [\"bat\"] ]\n"
   ]
  },
  {
   "cell_type": "code",
   "execution_count": 22,
   "metadata": {},
   "outputs": [
    {
     "name": "stdout",
     "output_type": "stream",
     "text": [
      "{'aet': [['e', 'a', 't'], ['e', 'a', 't'], ['e', 'a', 't']], 'ant': [['t', 'a', 'n'], ['t', 'a', 'n']], 'abt': [['b', 'a', 't']]}\n"
     ]
    }
   ],
   "source": [
    "input=[\"eat\", \"tea\", \"tan\", \"ate\", \"nat\", \"bat\"]\n",
    "unpacked=[[x for x in word] for word in input]\n",
    "unpacked2=[sorted([x for x in word]) for word in input]\n",
    "packed2=[''.join(list) for list in unpacked2]\n",
    "dictpack={}\n",
    "for orderWord in packed2:\n",
    "    if orderWord not in dictpack:\n",
    "        dictpack[orderWord]=[]\n",
    "    dictpack[orderWord].append(unpacked[packed2.index(orderWord)])\n",
    "print(dictpack)"
   ]
  },
  {
   "cell_type": "code",
   "execution_count": 143,
   "metadata": {},
   "outputs": [],
   "source": [
    "def groupAnagrams(strs):\n",
    "    unpacked2=[sorted([x for x in word]) for word in strs]\n",
    "    packed2=[''.join(list) for list in unpacked2]\n",
    "    dictpack={}\n",
    "    for orderWord in packed2:\n",
    "        if orderWord not in dictpack:\n",
    "            dictpack[orderWord]=[]\n",
    "        dictpack[orderWord].append(strs[packed2.index(orderWord)])\n",
    "    return dictpack.values()"
   ]
  },
  {
   "cell_type": "code",
   "execution_count": 150,
   "metadata": {},
   "outputs": [],
   "source": [
    "def groupAnagrams(strs):\n",
    "    unpacked2=[sorted([x for x in word]) for word in strs]\n",
    "    packed2=[''.join(list) for list in unpacked2]\n",
    "    dictpack={}\n",
    "    for i in range(len(packed2)):\n",
    "        if packed2[i] not in dictpack:\n",
    "            dictpack[packed2[i]]=[]\n",
    "        dictpack[packed2[i]].append(strs[i])\n",
    "    return dictpack.values()"
   ]
  },
  {
   "cell_type": "code",
   "execution_count": 151,
   "metadata": {},
   "outputs": [
    {
     "data": {
      "text/plain": [
       "dict_values([['eat', 'tea', 'ate'], ['tan', 'nat'], ['bat']])"
      ]
     },
     "execution_count": 151,
     "metadata": {},
     "output_type": "execute_result"
    }
   ],
   "source": [
    "input=[\"eat\", \"tea\", \"tan\", \"ate\", \"nat\", \"bat\"]\n",
    "groupAnagrams(input)"
   ]
  },
  {
   "cell_type": "code",
   "execution_count": null,
   "metadata": {},
   "outputs": [],
   "source": []
  },
  {
   "cell_type": "markdown",
   "metadata": {},
   "source": [
    "### Find needle in haystack"
   ]
  },
  {
   "cell_type": "markdown",
   "metadata": {},
   "source": [
    "Input: haystack = \"hello\", needle = \"ll\"\n",
    "Output: 2\n",
    "Input: haystack = \"aaaaa\", needle = \"bba\"\n",
    "Output: -1"
   ]
  },
  {
   "cell_type": "code",
   "execution_count": 158,
   "metadata": {},
   "outputs": [],
   "source": [
    "def strStr(haystack,needle):\n",
    "    l=len(needle)\n",
    "    if l==0:\n",
    "        return 0\n",
    "    else:\n",
    "        a=[1 if haystack[i:i+len(needle)]==needle else 0 for i in range(len(haystack)-l+1)]\n",
    "        if sum(a)==0:\n",
    "            return -1\n",
    "        else:\n",
    "            return a.index(1)"
   ]
  },
  {
   "cell_type": "code",
   "execution_count": 161,
   "metadata": {},
   "outputs": [
    {
     "data": {
      "text/plain": [
       "2"
      ]
     },
     "execution_count": 161,
     "metadata": {},
     "output_type": "execute_result"
    }
   ],
   "source": [
    "haystack = \"hello\";needle = \"ll\"\n",
    "strStr(haystack,needle)"
   ]
  },
  {
   "cell_type": "code",
   "execution_count": 160,
   "metadata": {},
   "outputs": [],
   "source": [
    "def strStr(haystack,needle):\n",
    "    return haystack.find(needle)"
   ]
  },
  {
   "cell_type": "code",
   "execution_count": 164,
   "metadata": {},
   "outputs": [
    {
     "data": {
      "text/plain": [
       "0"
      ]
     },
     "execution_count": 164,
     "metadata": {},
     "output_type": "execute_result"
    }
   ],
   "source": [
    "haystack = \"hello\";needle = \"\"\n",
    "strStr(haystack,needle)"
   ]
  },
  {
   "cell_type": "code",
   "execution_count": null,
   "metadata": {},
   "outputs": [],
   "source": []
  },
  {
   "cell_type": "markdown",
   "metadata": {},
   "source": [
    "### Count and Say"
   ]
  },
  {
   "cell_type": "markdown",
   "metadata": {},
   "source": [
    " 1.     1\n",
    " 2.     11\n",
    " 3.     21\n",
    " 4.     1211\n",
    " 5.     111221 \n",
    " 6.     312211\n",
    " 7.     13112221\n",
    " 8.     1113213211\n",
    " 9.     31131211131221\n",
    "10.     13211311123113112211"
   ]
  },
  {
   "cell_type": "code",
   "execution_count": 20,
   "metadata": {},
   "outputs": [],
   "source": [
    "def countAndSay(n):\n",
    "    L='1'\n",
    "    for _ in range(n-1):\n",
    "        i=0\n",
    "        r=''\n",
    "        while i<len(L)-1:\n",
    "            if L[i]!=L[i+1]:\n",
    "                r+=str(i+1)+L[i]\n",
    "                L=L[i+1:]\n",
    "                i=0\n",
    "            else:\n",
    "                i+=1\n",
    "        r+=str(len(L))+L[-1]\n",
    "        L=r\n",
    "    return L"
   ]
  },
  {
   "cell_type": "code",
   "execution_count": 22,
   "metadata": {},
   "outputs": [
    {
     "data": {
      "text/plain": [
       "'13211311123113112211'"
      ]
     },
     "execution_count": 22,
     "metadata": {},
     "output_type": "execute_result"
    }
   ],
   "source": [
    "countAndSay(10)"
   ]
  },
  {
   "cell_type": "code",
   "execution_count": 23,
   "metadata": {},
   "outputs": [],
   "source": [
    "def countAndSay(n):\n",
    "    s='1'\n",
    "    L=['1']\n",
    "    for x in range(n-1): #do how many times more\n",
    "        ss=''\n",
    "        i=0\n",
    "        while i+1<len(s):\n",
    "            if s[i]!=s[i+1]:\n",
    "                ss+=str(i+1)+s[i]\n",
    "                s=s[i+1:]\n",
    "                i=0\n",
    "            else:\n",
    "                i+=1\n",
    "        ss+=str(len(s))+s[-1]\n",
    "        L.append(ss)\n",
    "        s=ss\n",
    "    return L[-1]      "
   ]
  },
  {
   "cell_type": "code",
   "execution_count": 54,
   "metadata": {},
   "outputs": [],
   "source": [
    "def countAndSay(n):\n",
    "    s='1'\n",
    "    for _ in range(n-1): #do how many times more\n",
    "        ss=[]\n",
    "        i=0\n",
    "        while i+1<len(s):\n",
    "            if s[i]!=s[i+1]:\n",
    "                ss.append(str(i+1))\n",
    "                ss.append(s[i])\n",
    "                s=s[i+1:]\n",
    "                i=0\n",
    "            else:\n",
    "                i+=1\n",
    "        ss.append(str(len(s)))\n",
    "        ss.append(s[-1])\n",
    "        s=''.join(ss)\n",
    "    return s    #return s instead of creating a list "
   ]
  },
  {
   "cell_type": "code",
   "execution_count": 55,
   "metadata": {},
   "outputs": [
    {
     "data": {
      "text/plain": [
       "'13211311123113112211'"
      ]
     },
     "execution_count": 55,
     "metadata": {},
     "output_type": "execute_result"
    }
   ],
   "source": [
    "countAndSay(10)"
   ]
  },
  {
   "cell_type": "code",
   "execution_count": 41,
   "metadata": {},
   "outputs": [
    {
     "data": {
      "text/plain": [
       "'121314'"
      ]
     },
     "execution_count": 41,
     "metadata": {},
     "output_type": "execute_result"
    }
   ],
   "source": [
    "import re\n",
    "s = '234'\n",
    "s = re.sub(r'(.)\\1*', lambda m: str(len(m.group(0))) + m.group(1), s)   #group(0)整体 只替换s的一部分,再打印s\n",
    "#s = re.sub(r'(.)[1]*', lambda m: str(len(m.group(0))) + m.group(1), s)   #group(0)整体 只替换s的一部分,再打印s\n",
    "#m=re.search(r'(.)\\1*',s)\n",
    "#m.group(0)\n",
    "s"
   ]
  },
  {
   "cell_type": "code",
   "execution_count": 18,
   "metadata": {},
   "outputs": [
    {
     "name": "stdout",
     "output_type": "stream",
     "text": [
      "hello there there\n"
     ]
    }
   ],
   "source": [
    "import re\n",
    "print (re.sub('\\s+', ' ', 'hello     there      there'))"
   ]
  },
  {
   "cell_type": "code",
   "execution_count": null,
   "metadata": {},
   "outputs": [],
   "source": []
  },
  {
   "cell_type": "markdown",
   "metadata": {},
   "source": [
    "## 7/20 remove element\n",
    "Given nums = [3,2,2,3], val = 3"
   ]
  },
  {
   "cell_type": "code",
   "execution_count": 63,
   "metadata": {},
   "outputs": [],
   "source": [
    "input=[3,2,2,3] "
   ]
  },
  {
   "cell_type": "code",
   "execution_count": 68,
   "metadata": {},
   "outputs": [],
   "source": [
    "def removeElement(nums,val):\n",
    "    nums[:]=[x for x in nums if x!=val]\n",
    "    return len(nums)"
   ]
  },
  {
   "cell_type": "code",
   "execution_count": 70,
   "metadata": {},
   "outputs": [
    {
     "data": {
      "text/plain": [
       "2"
      ]
     },
     "execution_count": 70,
     "metadata": {},
     "output_type": "execute_result"
    }
   ],
   "source": [
    "removeElement(input,3)"
   ]
  },
  {
   "cell_type": "markdown",
   "metadata": {},
   "source": [
    "this weekend plan:\n",
    "    leetcode：\n",
    "        4道算法 easy\n",
    "        sql 1道新+复习之前难题\n",
    "    datacamp：\n",
    "        2章 scikit-learn"
   ]
  },
  {
   "cell_type": "markdown",
   "metadata": {},
   "source": [
    "### Search Insert Position\n",
    "Input: [1,3,5,6], 5\n",
    "Output: 2\n",
    "Input: [1,3,5,6], 7\n",
    "Output: 4"
   ]
  },
  {
   "cell_type": "code",
   "execution_count": 135,
   "metadata": {},
   "outputs": [],
   "source": [
    "def searchInsert(nums, target):\n",
    "    if target in nums:\n",
    "        return nums.index(target)\n",
    "    else:\n",
    "        nums.append(target) ### 只是一步操作 return None\n",
    "        return sorted(nums).index(target)"
   ]
  },
  {
   "cell_type": "code",
   "execution_count": 136,
   "metadata": {},
   "outputs": [],
   "source": [
    "a=[1,3,4,5]"
   ]
  },
  {
   "cell_type": "code",
   "execution_count": 137,
   "metadata": {},
   "outputs": [
    {
     "data": {
      "text/plain": [
       "0"
      ]
     },
     "execution_count": 137,
     "metadata": {},
     "output_type": "execute_result"
    }
   ],
   "source": [
    "searchInsert(a,0)"
   ]
  },
  {
   "cell_type": "markdown",
   "metadata": {},
   "source": [
    "### Maximum Subarray\n",
    "Input: [-2,1,-3,4,-1,2,1,-5,4],\n",
    "Output: 6\n",
    "Explanation: [4,-1,2,1] has the largest sum = 6."
   ]
  },
  {
   "cell_type": "code",
   "execution_count": 1,
   "metadata": {},
   "outputs": [
    {
     "data": {
      "text/plain": [
       "6"
      ]
     },
     "execution_count": 1,
     "metadata": {},
     "output_type": "execute_result"
    }
   ],
   "source": [
    "#my code O(n^2)\n",
    "def maxSubArray(nums):\n",
    "    l=len(nums)\n",
    "    dict={i:max([sum(nums[i:e]) for e in range(i+1,l+1)]) for i in range(l)}\n",
    "    return max(dict.values())\n",
    "Input=[-2,1,-3,4,-1,2,1,-5,4]\n",
    "maxSubArray(Input)"
   ]
  },
  {
   "cell_type": "code",
   "execution_count": 14,
   "metadata": {},
   "outputs": [
    {
     "data": {
      "text/plain": [
       "-1"
      ]
     },
     "execution_count": 14,
     "metadata": {},
     "output_type": "execute_result"
    }
   ],
   "source": [
    "#Kadane’s Algorithm: O(n)  only track the positive continous array\n",
    "def maxSubArray(nums):\n",
    "    max_ending=0\n",
    "    max_sofar=-abs(max(nums))-1\n",
    "    for i in nums:\n",
    "        max_ending+=i\n",
    "        if max_ending>max_sofar:\n",
    "            max_sofar=max_ending\n",
    "        max_ending=max(0,max_ending)  #you 0 lai qingli\n",
    "    return max_sofar\n",
    "Input=[-1]\n",
    "maxSubArray(Input)"
   ]
  },
  {
   "cell_type": "markdown",
   "metadata": {},
   "source": [
    "### Return last word\n",
    "Given a string s consists of upper/lower-case alphabets and empty space characters ' ', return the length of last word in the string.\n",
    "\n",
    "If the last word does not exist, return 0.\n",
    "\n",
    "Note: A word is defined as a character sequence consists of non-space characters only.\n",
    "\n",
    "Example:\n",
    "\n",
    "Input: \"Hello World\"\n",
    "Output: 5"
   ]
  },
  {
   "cell_type": "code",
   "execution_count": 139,
   "metadata": {},
   "outputs": [],
   "source": [
    "#Test success, not accepted.\n",
    "def lengthOfLastWord(s):\n",
    "    if ' 'in s:\n",
    "        s2=s.replace(' ','')\n",
    "        if not (s2.isalpha() or s2.isnumeric()):\n",
    "            return 0\n",
    "        else:\n",
    "            return len(s.split(' ')[-1])\n",
    "    else:\n",
    "        return len(s)  #'a'"
   ]
  },
  {
   "cell_type": "code",
   "execution_count": 144,
   "metadata": {},
   "outputs": [],
   "source": [
    "def lengthOfLastWord(s):\n",
    "    s=s.strip(' ')  #remove learding/trailing empty space\n",
    "    return len(s.split(' ')[-1])"
   ]
  },
  {
   "cell_type": "code",
   "execution_count": 145,
   "metadata": {},
   "outputs": [
    {
     "data": {
      "text/plain": [
       "5"
      ]
     },
     "execution_count": 145,
     "metadata": {},
     "output_type": "execute_result"
    }
   ],
   "source": [
    "s=\"a\"\n",
    "s='             '\n",
    "s=' Hello    World '\n",
    "lengthOfLastWord(s)"
   ]
  },
  {
   "cell_type": "code",
   "execution_count": 137,
   "metadata": {},
   "outputs": [
    {
     "data": {
      "text/plain": [
       "['Hello', '', '', '', 'World']"
      ]
     },
     "execution_count": 137,
     "metadata": {},
     "output_type": "execute_result"
    }
   ],
   "source": [
    "s=' Hello    World '\n",
    "s.strip('    ').split(' ')"
   ]
  },
  {
   "cell_type": "code",
   "execution_count": null,
   "metadata": {},
   "outputs": [],
   "source": []
  },
  {
   "cell_type": "markdown",
   "metadata": {},
   "source": [
    "### Plus One\n",
    "Given a non-empty array of digits representing a non-negative integer, plus one to the integer.\n",
    "\n",
    "The digits are stored such that the most significant digit is at the head of the list, and each element in the array contain a single digit.\n",
    "\n",
    "You may assume the integer does not contain any leading zero, except the number 0 itself.\n",
    "\n",
    "Example:\n",
    "\n",
    "Input: [4,3,2,1]\n",
    "Output: [4,3,2,2]\n",
    "Explanation: The array represents the integer 4321."
   ]
  },
  {
   "cell_type": "code",
   "execution_count": 44,
   "metadata": {},
   "outputs": [],
   "source": [
    "input=[1,2,3]"
   ]
  },
  {
   "cell_type": "code",
   "execution_count": 51,
   "metadata": {},
   "outputs": [],
   "source": [
    "def plusOne(digits):\n",
    "    num=''\n",
    "    for x in digits:\n",
    "        num+=str(x) \n",
    "    num=str(int(num)+1)\n",
    "    digits=[int(x) for x in num]\n",
    "    return digits"
   ]
  },
  {
   "cell_type": "code",
   "execution_count": 52,
   "metadata": {},
   "outputs": [
    {
     "data": {
      "text/plain": [
       "[1, 2, 4]"
      ]
     },
     "execution_count": 52,
     "metadata": {},
     "output_type": "execute_result"
    }
   ],
   "source": [
    "plusOne(input)"
   ]
  },
  {
   "cell_type": "code",
   "execution_count": 40,
   "metadata": {},
   "outputs": [
    {
     "data": {
      "text/plain": [
       "[1, 0]"
      ]
     },
     "execution_count": 40,
     "metadata": {},
     "output_type": "execute_result"
    }
   ],
   "source": [
    "#use recursive\n",
    "def plusOnerec(digits):\n",
    "    if len(digits)==0:    #handle [9]\n",
    "        digits.extend('1')\n",
    "    elif digits[-1]==9:\n",
    "        digits=plusOnerec(digits[:-1])\n",
    "        digits.extend('0')\n",
    "    else:\n",
    "        digits[-1]+=1\n",
    "    return [int(x) for x in digits ]\n",
    "plusOnerec([9])"
   ]
  },
  {
   "cell_type": "code",
   "execution_count": null,
   "metadata": {},
   "outputs": [],
   "source": []
  },
  {
   "cell_type": "markdown",
   "metadata": {},
   "source": [
    "### Add Binary\n",
    "Given two binary strings, return their sum (also a binary string).\n",
    "\n",
    "The input strings are both non-empty and contains only characters 1 or 0.\n",
    "\n",
    "Example 1:\n",
    "\n",
    "Input: a = \"11\", b = \"1\"\n",
    "Output: \"100\"\n",
    "Example 2:\n",
    "\n",
    "Input: a = \"1010\", b = \"1011\"\n",
    "Output: \"10101\""
   ]
  },
  {
   "cell_type": "markdown",
   "metadata": {},
   "source": [
    "0 + 0 = 0\n",
    "1 + 0 = 1\n",
    "1 + 1 = 10 (binary for 2)\n",
    "1 + 1 + 1 = 11 (binary for 3)"
   ]
  },
  {
   "cell_type": "code",
   "execution_count": null,
   "metadata": {},
   "outputs": [],
   "source": [
    "def addBinary(a,b):\n",
    "        "
   ]
  },
  {
   "cell_type": "code",
   "execution_count": null,
   "metadata": {},
   "outputs": [],
   "source": []
  },
  {
   "cell_type": "code",
   "execution_count": null,
   "metadata": {},
   "outputs": [],
   "source": []
  },
  {
   "cell_type": "code",
   "execution_count": null,
   "metadata": {},
   "outputs": [],
   "source": []
  }
 ],
 "metadata": {
  "kernelspec": {
   "display_name": "Python 3",
   "language": "python",
   "name": "python3"
  },
  "language_info": {
   "codemirror_mode": {
    "name": "ipython",
    "version": 3
   },
   "file_extension": ".py",
   "mimetype": "text/x-python",
   "name": "python",
   "nbconvert_exporter": "python",
   "pygments_lexer": "ipython3",
   "version": "3.7.3"
  }
 },
 "nbformat": 4,
 "nbformat_minor": 2
}
